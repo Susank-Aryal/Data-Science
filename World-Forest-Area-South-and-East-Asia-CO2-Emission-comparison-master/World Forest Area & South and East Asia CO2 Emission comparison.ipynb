{
 "cells": [
  {
   "cell_type": "code",
   "execution_count": 1,
   "metadata": {},
   "outputs": [
    {
     "name": "stdout",
     "output_type": "stream",
     "text": [
      "4.10.0\n"
     ]
    },
    {
     "data": {
      "text/html": [
       "        <script type=\"text/javascript\">\n",
       "        window.PlotlyConfig = {MathJaxConfig: 'local'};\n",
       "        if (window.MathJax) {MathJax.Hub.Config({SVG: {font: \"STIX-Web\"}});}\n",
       "        if (typeof require !== 'undefined') {\n",
       "        require.undef(\"plotly\");\n",
       "        requirejs.config({\n",
       "            paths: {\n",
       "                'plotly': ['https://cdn.plot.ly/plotly-latest.min']\n",
       "            }\n",
       "        });\n",
       "        require(['plotly'], function(Plotly) {\n",
       "            window._Plotly = Plotly;\n",
       "        });\n",
       "        }\n",
       "        </script>\n",
       "        "
      ]
     },
     "metadata": {},
     "output_type": "display_data"
    },
    {
     "data": {
      "text/html": [
       "        <script type=\"text/javascript\">\n",
       "        window.PlotlyConfig = {MathJaxConfig: 'local'};\n",
       "        if (window.MathJax) {MathJax.Hub.Config({SVG: {font: \"STIX-Web\"}});}\n",
       "        if (typeof require !== 'undefined') {\n",
       "        require.undef(\"plotly\");\n",
       "        requirejs.config({\n",
       "            paths: {\n",
       "                'plotly': ['https://cdn.plot.ly/plotly-latest.min']\n",
       "            }\n",
       "        });\n",
       "        require(['plotly'], function(Plotly) {\n",
       "            window._Plotly = Plotly;\n",
       "        });\n",
       "        }\n",
       "        </script>\n",
       "        "
      ]
     },
     "metadata": {},
     "output_type": "display_data"
    }
   ],
   "source": [
    "import pandas as pd\n",
    "import numpy as np\n",
    "import matplotlib.pyplot as plt\n",
    "import seaborn  as sns\n",
    "import matplotlib.gridspec as gridspec\n",
    "import plotly.graph_objects as go\n",
    "import cufflinks as cf\n",
    "import plotly.express as px\n",
    "\n",
    "from plotly import __version__\n",
    "from plotly.offline import download_plotlyjs, init_notebook_mode, plot, iplot\n",
    "\n",
    "print(__version__)\n",
    "init_notebook_mode(connected=True)\n",
    "cf.go_offline()"
   ]
  },
  {
   "cell_type": "code",
   "execution_count": 2,
   "metadata": {},
   "outputs": [
    {
     "data": {
      "text/html": [
       "<div>\n",
       "<style scoped>\n",
       "    .dataframe tbody tr th:only-of-type {\n",
       "        vertical-align: middle;\n",
       "    }\n",
       "\n",
       "    .dataframe tbody tr th {\n",
       "        vertical-align: top;\n",
       "    }\n",
       "\n",
       "    .dataframe thead th {\n",
       "        text-align: right;\n",
       "    }\n",
       "</style>\n",
       "<table border=\"1\" class=\"dataframe\">\n",
       "  <thead>\n",
       "    <tr style=\"text-align: right;\">\n",
       "      <th></th>\n",
       "      <th>2016</th>\n",
       "      <th>Country Code</th>\n",
       "      <th>Country</th>\n",
       "    </tr>\n",
       "    <tr>\n",
       "      <th>Country</th>\n",
       "      <th></th>\n",
       "      <th></th>\n",
       "      <th></th>\n",
       "    </tr>\n",
       "  </thead>\n",
       "  <tbody>\n",
       "    <tr>\n",
       "      <th>Aruba</th>\n",
       "      <td>0.000004</td>\n",
       "      <td>ABW</td>\n",
       "      <td>Aruba</td>\n",
       "    </tr>\n",
       "    <tr>\n",
       "      <th>Afghanistan</th>\n",
       "      <td>0.013500</td>\n",
       "      <td>AFG</td>\n",
       "      <td>Afghanistan</td>\n",
       "    </tr>\n",
       "    <tr>\n",
       "      <th>Angola</th>\n",
       "      <td>0.577312</td>\n",
       "      <td>AGO</td>\n",
       "      <td>Angola</td>\n",
       "    </tr>\n",
       "    <tr>\n",
       "      <th>Albania</th>\n",
       "      <td>0.007705</td>\n",
       "      <td>ALB</td>\n",
       "      <td>Albania</td>\n",
       "    </tr>\n",
       "    <tr>\n",
       "      <th>Andorra</th>\n",
       "      <td>0.000160</td>\n",
       "      <td>AND</td>\n",
       "      <td>Andorra</td>\n",
       "    </tr>\n",
       "  </tbody>\n",
       "</table>\n",
       "</div>"
      ],
      "text/plain": [
       "                 2016 Country Code      Country\n",
       "Country                                        \n",
       "Aruba        0.000004          ABW        Aruba\n",
       "Afghanistan  0.013500          AFG  Afghanistan\n",
       "Angola       0.577312          AGO       Angola\n",
       "Albania      0.007705          ALB      Albania\n",
       "Andorra      0.000160          AND      Andorra"
      ]
     },
     "execution_count": 2,
     "metadata": {},
     "output_type": "execute_result"
    }
   ],
   "source": [
    "forest_df = pd.read_excel(open('Forest Area.xls','rb'), sheet_name='Data',header = 3)\n",
    "del forest_df['Indicator Name']\n",
    "del forest_df['Indicator Code']\n",
    "\n",
    "forest_df['Country Name'] = forest_df['Country Name'].str.replace('Korea, Rep.','South Korea')\n",
    "forest_df['Country Name'] = forest_df['Country Name'].str.replace('Korea, Dem. People’s Rep.','North Korea')\n",
    "forest_df['Country Name'] = forest_df['Country Name'].str.replace('Hong Kong SAR, China','Hong Kong')\n",
    "forest_df['Country Name'] = forest_df['Country Name'].str.replace('Macao SAR, China','Macau')\n",
    "\n",
    "name = forest_df.columns.tolist()\n",
    "name[name.index('Country Name')] = 'Country'\n",
    "forest_df.columns = name\n",
    "forest_df = forest_df.set_index('Country')\n",
    "forest_df2 = forest_df.loc[:,'2016':'2016'] \n",
    "def to_million(x):\n",
    "    return x / 1000000\n",
    "\n",
    "forest_df2 = forest_df2.apply(to_million)\n",
    "forest_df2['Country Code'] = forest_df['Country Code']\n",
    "forest_df2['Country'] = forest_df2.index \n",
    "forest_df2.head()"
   ]
  },
  {
   "cell_type": "code",
   "execution_count": 3,
   "metadata": {},
   "outputs": [
    {
     "data": {
      "text/html": [
       "<div>\n",
       "<style scoped>\n",
       "    .dataframe tbody tr th:only-of-type {\n",
       "        vertical-align: middle;\n",
       "    }\n",
       "\n",
       "    .dataframe tbody tr th {\n",
       "        vertical-align: top;\n",
       "    }\n",
       "\n",
       "    .dataframe thead th {\n",
       "        text-align: right;\n",
       "    }\n",
       "</style>\n",
       "<table border=\"1\" class=\"dataframe\">\n",
       "  <thead>\n",
       "    <tr style=\"text-align: right;\">\n",
       "      <th></th>\n",
       "      <th>2016</th>\n",
       "      <th>Country Code</th>\n",
       "      <th>Country</th>\n",
       "      <th>bird</th>\n",
       "      <th>mammals</th>\n",
       "      <th>plant</th>\n",
       "    </tr>\n",
       "    <tr>\n",
       "      <th>Country</th>\n",
       "      <th></th>\n",
       "      <th></th>\n",
       "      <th></th>\n",
       "      <th></th>\n",
       "      <th></th>\n",
       "      <th></th>\n",
       "    </tr>\n",
       "  </thead>\n",
       "  <tbody>\n",
       "    <tr>\n",
       "      <th>Aruba</th>\n",
       "      <td>0.000004</td>\n",
       "      <td>ABW</td>\n",
       "      <td>Aruba</td>\n",
       "      <td>2.0</td>\n",
       "      <td>2.0</td>\n",
       "      <td>2.0</td>\n",
       "    </tr>\n",
       "    <tr>\n",
       "      <th>Afghanistan</th>\n",
       "      <td>0.013500</td>\n",
       "      <td>AFG</td>\n",
       "      <td>Afghanistan</td>\n",
       "      <td>16.0</td>\n",
       "      <td>11.0</td>\n",
       "      <td>5.0</td>\n",
       "    </tr>\n",
       "    <tr>\n",
       "      <th>Angola</th>\n",
       "      <td>0.577312</td>\n",
       "      <td>AGO</td>\n",
       "      <td>Angola</td>\n",
       "      <td>32.0</td>\n",
       "      <td>18.0</td>\n",
       "      <td>34.0</td>\n",
       "    </tr>\n",
       "    <tr>\n",
       "      <th>Albania</th>\n",
       "      <td>0.007705</td>\n",
       "      <td>ALB</td>\n",
       "      <td>Albania</td>\n",
       "      <td>8.0</td>\n",
       "      <td>3.0</td>\n",
       "      <td>4.0</td>\n",
       "    </tr>\n",
       "    <tr>\n",
       "      <th>Andorra</th>\n",
       "      <td>0.000160</td>\n",
       "      <td>AND</td>\n",
       "      <td>Andorra</td>\n",
       "      <td>3.0</td>\n",
       "      <td>2.0</td>\n",
       "      <td>0.0</td>\n",
       "    </tr>\n",
       "  </tbody>\n",
       "</table>\n",
       "</div>"
      ],
      "text/plain": [
       "                 2016 Country Code      Country  bird  mammals  plant\n",
       "Country                                                              \n",
       "Aruba        0.000004          ABW        Aruba   2.0      2.0    2.0\n",
       "Afghanistan  0.013500          AFG  Afghanistan  16.0     11.0    5.0\n",
       "Angola       0.577312          AGO       Angola  32.0     18.0   34.0\n",
       "Albania      0.007705          ALB      Albania   8.0      3.0    4.0\n",
       "Andorra      0.000160          AND      Andorra   3.0      2.0    0.0"
      ]
     },
     "execution_count": 3,
     "metadata": {},
     "output_type": "execute_result"
    }
   ],
   "source": [
    "plant_df = pd.read_excel(open('Plant Threatened.xls','rb'), sheet_name='Data',header = 3)\n",
    "plant_df['Country Name'] = plant_df['Country Name'].str.replace('Korea, Rep.','South Korea')\n",
    "plant_df['Country Name'] = plant_df['Country Name'].str.replace('Korea, Dem. People’s Rep.','North Korea')\n",
    "plant_df['Country Name'] = plant_df['Country Name'].str.replace('Hong Kong SAR, China','Hong Kong')\n",
    "plant_df['Country Name'] = plant_df['Country Name'].str.replace('Macao SAR, China','Macau')\n",
    "\n",
    "name = plant_df.columns.tolist()\n",
    "name[name.index('Country Name')] = 'Country'\n",
    "plant_df.columns = name\n",
    "plant_df = plant_df.set_index('Country')\n",
    "plant_df = plant_df.loc[:,'2018':'2018'] \n",
    "plant_df['Country Code'] = forest_df['Country Code']\n",
    "\n",
    "bird_df = pd.read_excel(open('Bird Threatened.xls','rb'), sheet_name='Data',header = 3)\n",
    "bird_df['Country Name'] = bird_df['Country Name'].str.replace('Korea, Rep.','South Korea')\n",
    "bird_df['Country Name'] = bird_df['Country Name'].str.replace('Korea, Dem. People’s Rep.','North Korea')\n",
    "bird_df['Country Name'] = bird_df['Country Name'].str.replace('Hong Kong SAR, China','Hong Kong')\n",
    "bird_df['Country Name'] = bird_df['Country Name'].str.replace('Macao SAR, China','Macau')\n",
    "\n",
    "name = bird_df.columns.tolist()\n",
    "name[name.index('Country Name')] = 'Country'\n",
    "bird_df.columns = name\n",
    "bird_df = bird_df.set_index('Country')\n",
    "bird_df = bird_df.loc[:,'2018':'2018'] \n",
    "bird_df['Country Code'] = forest_df['Country Code']\n",
    "\n",
    "\n",
    "mammals_df = pd.read_excel(open('Mammals Threatened.xls','rb'), sheet_name='Data',header = 3)\n",
    "mammals_df['Country Name'] = mammals_df['Country Name'].str.replace('Korea, Rep.','South Korea')\n",
    "mammals_df['Country Name'] = mammals_df['Country Name'].str.replace('Korea, Dem. People’s Rep.','North Korea')\n",
    "mammals_df['Country Name'] = mammals_df['Country Name'].str.replace('Hong Kong SAR, China','Hong Kong')\n",
    "mammals_df['Country Name'] = mammals_df['Country Name'].str.replace('Macao SAR, China','Macau')\n",
    "\n",
    "name = mammals_df.columns.tolist()\n",
    "name[name.index('Country Name')] = 'Country'\n",
    "mammals_df.columns = name\n",
    "mammals_df = mammals_df.set_index('Country')\n",
    "mammals_df = mammals_df.loc[:,'2018':'2018'] \n",
    "mammals_df['Country Code'] = forest_df['Country Code']\n",
    "mammals_df['2018'] = mammals_df[\"2018\"].fillna(0)\n",
    "bird_df['2018'] = bird_df[\"2018\"].fillna(0)\n",
    "plant_df['2018'] = plant_df[\"2018\"].fillna(0)\n",
    "forest_df2['bird'] = bird_df['2018']\n",
    "forest_df2['mammals'] = mammals_df['2018']\n",
    "forest_df2['plant'] = plant_df['2018']\n",
    "forest_df2.head()"
   ]
  },
  {
   "cell_type": "code",
   "execution_count": 4,
   "metadata": {},
   "outputs": [
    {
     "data": {
      "application/vnd.plotly.v1+json": {
       "config": {
        "plotlyServerURL": "https://plot.ly"
       },
       "data": [
        {
         "autocolorscale": false,
         "colorbar": {
          "title": {
           "text": "Forest Area<br>(Million Sq km)"
          }
         },
         "colorscale": [
          [
           0,
           "rgb(247,252,245)"
          ],
          [
           0.125,
           "rgb(229,245,224)"
          ],
          [
           0.25,
           "rgb(199,233,192)"
          ],
          [
           0.375,
           "rgb(161,217,155)"
          ],
          [
           0.5,
           "rgb(116,196,118)"
          ],
          [
           0.625,
           "rgb(65,171,93)"
          ],
          [
           0.75,
           "rgb(35,139,69)"
          ],
          [
           0.875,
           "rgb(0,109,44)"
          ],
          [
           1,
           "rgb(0,68,27)"
          ]
         ],
         "locations": [
          "ABW",
          "AFG",
          "AGO",
          "ALB",
          "AND",
          "ARB",
          "ARE",
          "ARG",
          "ARM",
          "ASM",
          "ATG",
          "AUS",
          "AUT",
          "AZE",
          "BDI",
          "BEL",
          "BEN",
          "BFA",
          "BGD",
          "BGR",
          "BHR",
          "BHS",
          "BIH",
          "BLR",
          "BLZ",
          "BMU",
          "BOL",
          "BRA",
          "BRB",
          "BRN",
          "BTN",
          "BWA",
          "CAF",
          "CAN",
          "CEB",
          "CHE",
          "CHI",
          "CHL",
          "CHN",
          "CIV",
          "CMR",
          "COD",
          "COG",
          "COL",
          "COM",
          "CPV",
          "CRI",
          "CSS",
          "CUB",
          "CUW",
          "CYM",
          "CYP",
          "CZE",
          "DEU",
          "DJI",
          "DMA",
          "DNK",
          "DOM",
          "DZA",
          "EAP",
          "EAR",
          "EAS",
          "ECA",
          "ECS",
          "ECU",
          "EGY",
          "EMU",
          "ERI",
          "ESP",
          "EST",
          "ETH",
          "EUU",
          "FCS",
          "FIN",
          "FJI",
          "FRA",
          "FRO",
          "FSM",
          "GAB",
          "GBR",
          "GEO",
          "GHA",
          "GIB",
          "GIN",
          "GMB",
          "GNB",
          "GNQ",
          "GRC",
          "GRD",
          "GRL",
          "GTM",
          "GUM",
          "GUY",
          "HIC",
          "HKG",
          "HND",
          "HPC",
          "HRV",
          "HTI",
          "HUN",
          "IBD",
          "IBT",
          "IDA",
          "IDB",
          "IDN",
          "IDX",
          "IMN",
          "IND",
          "INX",
          "IRL",
          "IRN",
          "IRQ",
          "ISL",
          "ISR",
          "ITA",
          "JAM",
          "JOR",
          "JPN",
          "KAZ",
          "KEN",
          "KGZ",
          "KHM",
          "KIR",
          "KNA",
          "KOR",
          "KWT",
          "LAC",
          "LAO",
          "LBN",
          "LBR",
          "LBY",
          "LCA",
          "LCN",
          "LDC",
          "LIC",
          "LIE",
          "LKA",
          "LMC",
          "LMY",
          "LSO",
          "LTE",
          "LTU",
          "LUX",
          "LVA",
          "MAC",
          "MAF",
          "MAR",
          "MCO",
          "MDA",
          "MDG",
          "MDV",
          "MEA",
          "MEX",
          "MHL",
          "MIC",
          "MKD",
          "MLI",
          "MLT",
          "MMR",
          "MNA",
          "MNE",
          "MNG",
          "MNP",
          "MOZ",
          "MRT",
          "MUS",
          "MWI",
          "MYS",
          "NAC",
          "NAM",
          "NCL",
          "NER",
          "NGA",
          "NIC",
          "NLD",
          "NOR",
          "NPL",
          "NRU",
          "NZL",
          "OED",
          "OMN",
          "OSS",
          "PAK",
          "PAN",
          "PER",
          "PHL",
          "PLW",
          "PNG",
          "POL",
          "PRE",
          "PRI",
          "PRK",
          "PRT",
          "PRY",
          "PSE",
          "PSS",
          "PST",
          "PYF",
          "QAT",
          "ROU",
          "RUS",
          "RWA",
          "SAS",
          "SAU",
          "SDN",
          "SEN",
          "SGP",
          "SLB",
          "SLE",
          "SLV",
          "SMR",
          "SOM",
          "SRB",
          "SSA",
          "SSD",
          "SSF",
          "SST",
          "STP",
          "SUR",
          "SVK",
          "SVN",
          "SWE",
          "SWZ",
          "SXM",
          "SYC",
          "SYR",
          "TCA",
          "TCD",
          "TEA",
          "TEC",
          "TGO",
          "THA",
          "TJK",
          "TKM",
          "TLA",
          "TLS",
          "TMN",
          "TON",
          "TSA",
          "TSS",
          "TTO",
          "TUN",
          "TUR",
          "TUV",
          "TZA",
          "UGA",
          "UKR",
          "UMC",
          "URY",
          "USA",
          "UZB",
          "VCT",
          "VEN",
          "VGB",
          "VIR",
          "VNM",
          "VUT",
          "WLD",
          "WSM",
          "XKX",
          "YEM",
          "ZAF",
          "ZMB",
          "ZWE"
         ],
         "marker": {
          "line": {
           "color": "black",
           "width": 0.5
          }
         },
         "text": [
          "Aruba<br>Imperil Plants 2.0 Imperil Birds 2.0<br>Imperil Mammals 2.0",
          "Afghanistan<br>Imperil Plants 5.0 Imperil Birds 16.0<br>Imperil Mammals 11.0",
          "Angola<br>Imperil Plants 34.0 Imperil Birds 32.0<br>Imperil Mammals 18.0",
          "Albania<br>Imperil Plants 4.0 Imperil Birds 8.0<br>Imperil Mammals 3.0",
          "Andorra<br>Imperil Plants 0.0 Imperil Birds 3.0<br>Imperil Mammals 2.0",
          "Arab World<br>Imperil Plants 415.0 Imperil Birds 319.0<br>Imperil Mammals 248.0",
          "United Arab Emirates<br>Imperil Plants 0.0 Imperil Birds 13.0<br>Imperil Mammals 8.0",
          "Argentina<br>Imperil Plants 70.0 Imperil Birds 52.0<br>Imperil Mammals 38.0",
          "Armenia<br>Imperil Plants 74.0 Imperil Birds 14.0<br>Imperil Mammals 9.0",
          "American Samoa<br>Imperil Plants 1.0 Imperil Birds 8.0<br>Imperil Mammals 1.0",
          "Antigua and Barbuda<br>Imperil Plants 4.0 Imperil Birds 3.0<br>Imperil Mammals 2.0",
          "Australia<br>Imperil Plants 108.0 Imperil Birds 52.0<br>Imperil Mammals 63.0",
          "Austria<br>Imperil Plants 17.0 Imperil Birds 13.0<br>Imperil Mammals 3.0",
          "Azerbaijan<br>Imperil Plants 44.0 Imperil Birds 17.0<br>Imperil Mammals 8.0",
          "Burundi<br>Imperil Plants 89.0 Imperil Birds 15.0<br>Imperil Mammals 14.0",
          "Belgium<br>Imperil Plants 0.0 Imperil Birds 8.0<br>Imperil Mammals 2.0",
          "Benin<br>Imperil Plants 20.0 Imperil Birds 12.0<br>Imperil Mammals 13.0",
          "Burkina Faso<br>Imperil Plants 4.0 Imperil Birds 12.0<br>Imperil Mammals 9.0",
          "Bangladesh<br>Imperil Plants 23.0 Imperil Birds 36.0<br>Imperil Mammals 37.0",
          "Bulgaria<br>Imperil Plants 9.0 Imperil Birds 17.0<br>Imperil Mammals 8.0",
          "Bahrain<br>Imperil Plants 0.0 Imperil Birds 7.0<br>Imperil Mammals 3.0",
          "Bahamas, The<br>Imperil Plants 7.0 Imperil Birds 10.0<br>Imperil Mammals 5.0",
          "Bosnia and Herzegovina<br>Imperil Plants 3.0 Imperil Birds 7.0<br>Imperil Mammals 4.0",
          "Belarus<br>Imperil Plants 1.0 Imperil Birds 9.0<br>Imperil Mammals 4.0",
          "Belize<br>Imperil Plants 46.0 Imperil Birds 6.0<br>Imperil Mammals 10.0",
          "Bermuda<br>Imperil Plants 8.0 Imperil Birds 3.0<br>Imperil Mammals 4.0",
          "Bolivia<br>Imperil Plants 106.0 Imperil Birds 55.0<br>Imperil Mammals 21.0",
          "Brazil<br>Imperil Plants 558.0 Imperil Birds 175.0<br>Imperil Mammals 80.0",
          "Barbados<br>Imperil Plants 3.0 Imperil Birds 4.0<br>Imperil Mammals 3.0",
          "Brunei Darussalam<br>Imperil Plants 127.0 Imperil Birds 31.0<br>Imperil Mammals 33.0",
          "Bhutan<br>Imperil Plants 43.0 Imperil Birds 21.0<br>Imperil Mammals 25.0",
          "Botswana<br>Imperil Plants 3.0 Imperil Birds 16.0<br>Imperil Mammals 11.0",
          "Central African Republic<br>Imperil Plants 26.0 Imperil Birds 16.0<br>Imperil Mammals 16.0",
          "Canada<br>Imperil Plants 18.0 Imperil Birds 24.0<br>Imperil Mammals 18.0",
          "Central Europe and the Baltics<br>Imperil Plants 137.0 Imperil Birds 133.0<br>Imperil Mammals 50.0",
          "Switzerland<br>Imperil Plants 4.0 Imperil Birds 9.0<br>Imperil Mammals 3.0",
          "Channel Islands<br>Imperil Plants 0.0 Imperil Birds 0.0<br>Imperil Mammals 0.0",
          "Chile<br>Imperil Plants 73.0 Imperil Birds 35.0<br>Imperil Mammals 19.0",
          "China<br>Imperil Plants 593.0 Imperil Birds 96.0<br>Imperil Mammals 73.0",
          "Cote d'Ivoire<br>Imperil Plants 118.0 Imperil Birds 25.0<br>Imperil Mammals 31.0",
          "Cameroon<br>Imperil Plants 555.0 Imperil Birds 29.0<br>Imperil Mammals 46.0",
          "Congo, Dem. Rep.<br>Imperil Plants 148.0 Imperil Birds 42.0<br>Imperil Mammals 32.0",
          "Congo, Rep.<br>Imperil Plants 46.0 Imperil Birds 7.0<br>Imperil Mammals 15.0",
          "Colombia<br>Imperil Plants 268.0 Imperil Birds 126.0<br>Imperil Mammals 58.0",
          "Comoros<br>Imperil Plants 9.0 Imperil Birds 14.0<br>Imperil Mammals 5.0",
          "Cabo Verde<br>Imperil Plants 51.0 Imperil Birds 7.0<br>Imperil Mammals 4.0",
          "Costa Rica<br>Imperil Plants 143.0 Imperil Birds 27.0<br>Imperil Mammals 11.0",
          "Caribbean small states<br>Imperil Plants 412.0 Imperil Birds 87.0<br>Imperil Mammals 61.0",
          "Cuba<br>Imperil Plants 179.0 Imperil Birds 19.0<br>Imperil Mammals 10.0",
          "Curacao<br>Imperil Plants 2.0 Imperil Birds 2.0<br>Imperil Mammals 3.0",
          "Cayman Islands<br>Imperil Plants 22.0 Imperil Birds 3.0<br>Imperil Mammals 1.0",
          "Cyprus<br>Imperil Plants 22.0 Imperil Birds 7.0<br>Imperil Mammals 6.0",
          "Czech Republic<br>Imperil Plants 26.0 Imperil Birds 9.0<br>Imperil Mammals 3.0",
          "Germany<br>Imperil Plants 36.0 Imperil Birds 11.0<br>Imperil Mammals 5.0",
          "Djibouti<br>Imperil Plants 3.0 Imperil Birds 12.0<br>Imperil Mammals 11.0",
          "Dominica<br>Imperil Plants 12.0 Imperil Birds 7.0<br>Imperil Mammals 3.0",
          "Denmark<br>Imperil Plants 1.0 Imperil Birds 9.0<br>Imperil Mammals 2.0",
          "Dominican Republic<br>Imperil Plants 47.0 Imperil Birds 17.0<br>Imperil Mammals 7.0",
          "Algeria<br>Imperil Plants 22.0 Imperil Birds 15.0<br>Imperil Mammals 14.0",
          "East Asia & Pacific (excluding high income)<br>Imperil Plants 2891.0 Imperil Birds 828.0<br>Imperil Mammals 737.0",
          "Early-demographic dividend<br>Imperil Plants 6415.0 Imperil Birds 1792.0<br>Imperil Mammals 1406.0",
          "East Asia & Pacific<br>Imperil Plants 3799.0 Imperil Birds 1224.0<br>Imperil Mammals 934.0",
          "Europe & Central Asia (excluding high income)<br>Imperil Plants 463.0 Imperil Birds 325.0<br>Imperil Mammals 179.0",
          "Europe & Central Asia<br>Imperil Plants 1306.0 Imperil Birds 678.0<br>Imperil Mammals 350.0",
          "Ecuador<br>Imperil Plants 1859.0 Imperil Birds 106.0<br>Imperil Mammals 47.0",
          "Egypt, Arab Rep.<br>Imperil Plants 8.0 Imperil Birds 14.0<br>Imperil Mammals 18.0",
          "Euro area<br>Imperil Plants 687.0 Imperil Birds 213.0<br>Imperil Mammals 99.0",
          "Eritrea<br>Imperil Plants 6.0 Imperil Birds 21.0<br>Imperil Mammals 15.0",
          "Spain<br>Imperil Plants 247.0 Imperil Birds 19.0<br>Imperil Mammals 17.0",
          "Estonia<br>Imperil Plants 0.0 Imperil Birds 9.0<br>Imperil Mammals 1.0",
          "Ethiopia<br>Imperil Plants 64.0 Imperil Birds 35.0<br>Imperil Mammals 34.0",
          "European Union<br>Imperil Plants 797.0 Imperil Birds 314.0<br>Imperil Mammals 138.0",
          "Fragile and conflict affected situations<br>Imperil Plants 1985.0 Imperil Birds 667.0<br>Imperil Mammals 566.0",
          "Finland<br>Imperil Plants 2.0 Imperil Birds 11.0<br>Imperil Mammals 2.0",
          "Fiji<br>Imperil Plants 78.0 Imperil Birds 14.0<br>Imperil Mammals 7.0",
          "France<br>Imperil Plants 47.0 Imperil Birds 16.0<br>Imperil Mammals 9.0",
          "Faroe Islands<br>Imperil Plants 0.0 Imperil Birds 6.0<br>Imperil Mammals 4.0",
          "Micronesia, Fed. Sts.<br>Imperil Plants 5.0 Imperil Birds 12.0<br>Imperil Mammals 5.0",
          "Gabon<br>Imperil Plants 173.0 Imperil Birds 7.0<br>Imperil Mammals 18.0",
          "United Kingdom<br>Imperil Plants 42.0 Imperil Birds 11.0<br>Imperil Mammals 5.0",
          "Georgia<br>Imperil Plants 63.0 Imperil Birds 14.0<br>Imperil Mammals 9.0",
          "Ghana<br>Imperil Plants 119.0 Imperil Birds 23.0<br>Imperil Mammals 21.0",
          "Gibraltar<br>Imperil Plants 1.0 Imperil Birds 6.0<br>Imperil Mammals 3.0",
          "Guinea<br>Imperil Plants 70.0 Imperil Birds 20.0<br>Imperil Mammals 30.0",
          "Gambia, The<br>Imperil Plants 6.0 Imperil Birds 14.0<br>Imperil Mammals 10.0",
          "Guinea-Bissau<br>Imperil Plants 6.0 Imperil Birds 12.0<br>Imperil Mammals 14.0",
          "Equatorial Guinea<br>Imperil Plants 98.0 Imperil Birds 6.0<br>Imperil Mammals 23.0",
          "Greece<br>Imperil Plants 72.0 Imperil Birds 17.0<br>Imperil Mammals 10.0",
          "Grenada<br>Imperil Plants 3.0 Imperil Birds 2.0<br>Imperil Mammals 3.0",
          "Greenland<br>Imperil Plants 1.0 Imperil Birds 6.0<br>Imperil Mammals 9.0",
          "Guatemala<br>Imperil Plants 120.0 Imperil Birds 17.0<br>Imperil Mammals 15.0",
          "Guam<br>Imperil Plants 5.0 Imperil Birds 14.0<br>Imperil Mammals 3.0",
          "Guyana<br>Imperil Plants 30.0 Imperil Birds 16.0<br>Imperil Mammals 11.0",
          "High income<br>Imperil Plants 2991.0 Imperil Birds 1123.0<br>Imperil Mammals 579.0",
          "Hong Kong<br>Imperil Plants 10.0 Imperil Birds 21.0<br>Imperil Mammals 4.0",
          "Honduras<br>Imperil Plants 134.0 Imperil Birds 14.0<br>Imperil Mammals 8.0",
          "Heavily indebted poor countries (HIPC)<br>Imperil Plants 4055.0 Imperil Birds 823.0<br>Imperil Mammals 799.0",
          "Croatia<br>Imperil Plants 8.0 Imperil Birds 14.0<br>Imperil Mammals 9.0",
          "Haiti<br>Imperil Plants 93.0 Imperil Birds 17.0<br>Imperil Mammals 4.0",
          "Hungary<br>Imperil Plants 43.0 Imperil Birds 13.0<br>Imperil Mammals 3.0",
          "IBRD only<br>Imperil Plants 9133.0 Imperil Birds 2276.0<br>Imperil Mammals 1627.0",
          "IDA & IBRD total<br>Imperil Plants 14462.0 Imperil Birds 3647.0<br>Imperil Mammals 2911.0",
          "IDA total<br>Imperil Plants 5329.0 Imperil Birds 1371.0<br>Imperil Mammals 1284.0",
          "IDA blend<br>Imperil Plants 1467.0 Imperil Birds 258.0<br>Imperil Mammals 234.0",
          "Indonesia<br>Imperil Plants 458.0 Imperil Birds 160.0<br>Imperil Mammals 191.0",
          "IDA only<br>Imperil Plants 3862.0 Imperil Birds 1113.0<br>Imperil Mammals 1050.0",
          "Isle of Man<br>Imperil Plants 0.0 Imperil Birds 0.0<br>Imperil Mammals 0.0",
          "India<br>Imperil Plants 396.0 Imperil Birds 93.0<br>Imperil Mammals 93.0",
          "Not classified<br>Imperil Plants 0.0 Imperil Birds 0.0<br>Imperil Mammals 0.0",
          "Ireland<br>Imperil Plants 3.0 Imperil Birds 9.0<br>Imperil Mammals 5.0",
          "Iran, Islamic Rep.<br>Imperil Plants 7.0 Imperil Birds 28.0<br>Imperil Mammals 18.0",
          "Iraq<br>Imperil Plants 2.0 Imperil Birds 17.0<br>Imperil Mammals 13.0",
          "Iceland<br>Imperil Plants 0.0 Imperil Birds 7.0<br>Imperil Mammals 6.0",
          "Israel<br>Imperil Plants 23.0 Imperil Birds 18.0<br>Imperil Mammals 15.0",
          "Italy<br>Imperil Plants 102.0 Imperil Birds 17.0<br>Imperil Mammals 8.0",
          "Jamaica<br>Imperil Plants 215.0 Imperil Birds 11.0<br>Imperil Mammals 7.0",
          "Jordan<br>Imperil Plants 8.0 Imperil Birds 14.0<br>Imperil Mammals 13.0",
          "Japan<br>Imperil Plants 50.0 Imperil Birds 49.0<br>Imperil Mammals 29.0",
          "Kazakhstan<br>Imperil Plants 14.0 Imperil Birds 27.0<br>Imperil Mammals 16.0",
          "Kenya<br>Imperil Plants 243.0 Imperil Birds 44.0<br>Imperil Mammals 30.0",
          "Kyrgyz Republic<br>Imperil Plants 13.0 Imperil Birds 15.0<br>Imperil Mammals 5.0",
          "Cambodia<br>Imperil Plants 37.0 Imperil Birds 31.0<br>Imperil Mammals 39.0",
          "Kiribati<br>Imperil Plants 0.0 Imperil Birds 6.0<br>Imperil Mammals 2.0",
          "St. Kitts and Nevis<br>Imperil Plants 2.0 Imperil Birds 3.0<br>Imperil Mammals 2.0",
          "South Korea<br>Imperil Plants 31.0 Imperil Birds 33.0<br>Imperil Mammals 12.0",
          "Kuwait<br>Imperil Plants 0.0 Imperil Birds 11.0<br>Imperil Mammals 7.0",
          "Latin America & Caribbean (excluding high income)<br>Imperil Plants 4924.0 Imperil Birds 980.0<br>Imperil Mammals 553.0",
          "Lao PDR<br>Imperil Plants 56.0 Imperil Birds 29.0<br>Imperil Mammals 45.0",
          "Lebanon<br>Imperil Plants 24.0 Imperil Birds 11.0<br>Imperil Mammals 10.0",
          "Liberia<br>Imperil Plants 53.0 Imperil Birds 14.0<br>Imperil Mammals 24.0",
          "Libya<br>Imperil Plants 7.0 Imperil Birds 8.0<br>Imperil Mammals 10.0",
          "St. Lucia<br>Imperil Plants 7.0 Imperil Birds 7.0<br>Imperil Mammals 2.0",
          "Latin America & Caribbean<br>Imperil Plants 5439.0 Imperil Birds 1117.0<br>Imperil Mammals 629.0",
          "Least developed countries: UN classification<br>Imperil Plants 3384.0 Imperil Birds 982.0<br>Imperil Mammals 957.0",
          "Low income<br>Imperil Plants 2373.0 Imperil Birds 590.0<br>Imperil Mammals 582.0",
          "Liechtenstein<br>Imperil Plants 0.0 Imperil Birds 2.0<br>Imperil Mammals 0.0",
          "Sri Lanka<br>Imperil Plants 297.0 Imperil Birds 16.0<br>Imperil Mammals 30.0",
          "Lower middle income<br>Imperil Plants 4315.0 Imperil Birds 1230.0<br>Imperil Mammals 1040.0",
          "Low & middle income<br>Imperil Plants 14119.0 Imperil Birds 3550.0<br>Imperil Mammals 2843.0",
          "Lesotho<br>Imperil Plants 4.0 Imperil Birds 8.0<br>Imperil Mammals 4.0",
          "Late-demographic dividend<br>Imperil Plants 4688.0 Imperil Birds 1303.0<br>Imperil Mammals 800.0",
          "Lithuania<br>Imperil Plants 1.0 Imperil Birds 10.0<br>Imperil Mammals 2.0",
          "Luxembourg<br>Imperil Plants 0.0 Imperil Birds 3.0<br>Imperil Mammals 0.0",
          "Latvia<br>Imperil Plants 0.0 Imperil Birds 11.0<br>Imperil Mammals 1.0",
          "Macau<br>Imperil Plants 0.0 Imperil Birds 4.0<br>Imperil Mammals 0.0",
          "St. Martin (French part)<br>Imperil Plants 3.0 Imperil Birds 1.0<br>Imperil Mammals 2.0",
          "Morocco<br>Imperil Plants 52.0 Imperil Birds 18.0<br>Imperil Mammals 18.0",
          "Monaco<br>Imperil Plants 1.0 Imperil Birds 0.0<br>Imperil Mammals 3.0",
          "Moldova<br>Imperil Plants 2.0 Imperil Birds 11.0<br>Imperil Mammals 4.0",
          "Madagascar<br>Imperil Plants 1111.0 Imperil Birds 37.0<br>Imperil Mammals 121.0",
          "Maldives<br>Imperil Plants 0.0 Imperil Birds 0.0<br>Imperil Mammals 2.0",
          "Middle East & North Africa<br>Imperil Plants 374.0 Imperil Birds 290.0<br>Imperil Mammals 228.0",
          "Mexico<br>Imperil Plants 484.0 Imperil Birds 71.0<br>Imperil Mammals 96.0",
          "Marshall Islands<br>Imperil Plants 0.0 Imperil Birds 4.0<br>Imperil Mammals 1.0",
          "Middle income<br>Imperil Plants 11746.0 Imperil Birds 2960.0<br>Imperil Mammals 2261.0",
          "North Macedonia<br>Imperil Plants 4.0 Imperil Birds 13.0<br>Imperil Mammals 6.0",
          "Mali<br>Imperil Plants 12.0 Imperil Birds 17.0<br>Imperil Mammals 14.0",
          "Malta<br>Imperil Plants 4.0 Imperil Birds 5.0<br>Imperil Mammals 2.0",
          "Myanmar<br>Imperil Plants 61.0 Imperil Birds 56.0<br>Imperil Mammals 49.0",
          "Middle East & North Africa (excluding high income)<br>Imperil Plants 337.0 Imperil Birds 196.0<br>Imperil Mammals 168.0",
          "Montenegro<br>Imperil Plants 3.0 Imperil Birds 13.0<br>Imperil Mammals 6.0",
          "Mongolia<br>Imperil Plants 0.0 Imperil Birds 24.0<br>Imperil Mammals 11.0",
          "Northern Mariana Islands<br>Imperil Plants 6.0 Imperil Birds 17.0<br>Imperil Mammals 3.0",
          "Mozambique<br>Imperil Plants 145.0 Imperil Birds 30.0<br>Imperil Mammals 17.0",
          "Mauritania<br>Imperil Plants 0.0 Imperil Birds 19.0<br>Imperil Mammals 18.0",
          "Mauritius<br>Imperil Plants 91.0 Imperil Birds 12.0<br>Imperil Mammals 7.0",
          "Malawi<br>Imperil Plants 34.0 Imperil Birds 19.0<br>Imperil Mammals 10.0",
          "Malaysia<br>Imperil Plants 727.0 Imperil Birds 63.0<br>Imperil Mammals 71.0",
          "North America<br>Imperil Plants 536.0 Imperil Birds 118.0<br>Imperil Mammals 62.0",
          "Namibia<br>Imperil Plants 27.0 Imperil Birds 32.0<br>Imperil Mammals 15.0",
          "New Caledonia<br>Imperil Plants 350.0 Imperil Birds 17.0<br>Imperil Mammals 9.0",
          "Niger<br>Imperil Plants 4.0 Imperil Birds 13.0<br>Imperil Mammals 13.0",
          "Nigeria<br>Imperil Plants 205.0 Imperil Birds 21.0<br>Imperil Mammals 31.0",
          "Nicaragua<br>Imperil Plants 50.0 Imperil Birds 17.0<br>Imperil Mammals 7.0",
          "Netherlands<br>Imperil Plants 1.0 Imperil Birds 10.0<br>Imperil Mammals 3.0",
          "Norway<br>Imperil Plants 10.0 Imperil Birds 11.0<br>Imperil Mammals 8.0",
          "Nepal<br>Imperil Plants 18.0 Imperil Birds 38.0<br>Imperil Mammals 29.0",
          "Nauru<br>Imperil Plants 0.0 Imperil Birds 2.0<br>Imperil Mammals 2.0",
          "New Zealand<br>Imperil Plants 21.0 Imperil Birds 69.0<br>Imperil Mammals 9.0",
          "OECD members<br>Imperil Plants 2502.0 Imperil Birds 880.0<br>Imperil Mammals 504.0",
          "Oman<br>Imperil Plants 6.0 Imperil Birds 13.0<br>Imperil Mammals 10.0",
          "Other small states<br>Imperil Plants 795.0 Imperil Birds 293.0<br>Imperil Mammals 234.0",
          "Pakistan<br>Imperil Plants 12.0 Imperil Birds 33.0<br>Imperil Mammals 25.0",
          "Panama<br>Imperil Plants 212.0 Imperil Birds 25.0<br>Imperil Mammals 17.0",
          "Peru<br>Imperil Plants 328.0 Imperil Birds 119.0<br>Imperil Mammals 53.0",
          "Philippines<br>Imperil Plants 254.0 Imperil Birds 93.0<br>Imperil Mammals 38.0",
          "Palau<br>Imperil Plants 5.0 Imperil Birds 6.0<br>Imperil Mammals 4.0",
          "Papua New Guinea<br>Imperil Plants 179.0 Imperil Birds 39.0<br>Imperil Mammals 41.0",
          "Poland<br>Imperil Plants 11.0 Imperil Birds 11.0<br>Imperil Mammals 4.0",
          "Pre-demographic dividend<br>Imperil Plants 3970.0 Imperil Birds 761.0<br>Imperil Mammals 799.0",
          "Puerto Rico<br>Imperil Plants 64.0 Imperil Birds 11.0<br>Imperil Mammals 2.0",
          "North Korea<br>Imperil Plants 17.0 Imperil Birds 29.0<br>Imperil Mammals 10.0",
          "Portugal<br>Imperil Plants 101.0 Imperil Birds 15.0<br>Imperil Mammals 13.0",
          "Paraguay<br>Imperil Plants 20.0 Imperil Birds 27.0<br>Imperil Mammals 10.0",
          "West Bank and Gaza<br>Imperil Plants 6.0 Imperil Birds 15.0<br>Imperil Mammals 4.0",
          "Pacific island small states<br>Imperil Plants 121.0 Imperil Birds 88.0<br>Imperil Mammals 54.0",
          "Post-demographic dividend<br>Imperil Plants 1807.0 Imperil Birds 693.0<br>Imperil Mammals 347.0",
          "French Polynesia<br>Imperil Plants 48.0 Imperil Birds 35.0<br>Imperil Mammals 0.0",
          "Qatar<br>Imperil Plants 0.0 Imperil Birds 9.0<br>Imperil Mammals 4.0",
          "Romania<br>Imperil Plants 7.0 Imperil Birds 17.0<br>Imperil Mammals 9.0",
          "Russian Federation<br>Imperil Plants 56.0 Imperil Birds 57.0<br>Imperil Mammals 34.0",
          "Rwanda<br>Imperil Plants 41.0 Imperil Birds 20.0<br>Imperil Mammals 24.0",
          "South Asia<br>Imperil Plants 794.0 Imperil Birds 253.0<br>Imperil Mammals 252.0",
          "Saudi Arabia<br>Imperil Plants 4.0 Imperil Birds 18.0<br>Imperil Mammals 11.0",
          "Sudan<br>Imperil Plants 17.0 Imperil Birds 26.0<br>Imperil Mammals 16.0",
          "Senegal<br>Imperil Plants 14.0 Imperil Birds 19.0<br>Imperil Mammals 19.0",
          "Singapore<br>Imperil Plants 62.0 Imperil Birds 22.0<br>Imperil Mammals 14.0",
          "Solomon Islands<br>Imperil Plants 16.0 Imperil Birds 24.0<br>Imperil Mammals 19.0",
          "Sierra Leone<br>Imperil Plants 72.0 Imperil Birds 16.0<br>Imperil Mammals 22.0",
          "El Salvador<br>Imperil Plants 33.0 Imperil Birds 7.0<br>Imperil Mammals 6.0",
          "San Marino<br>Imperil Plants 0.0 Imperil Birds 0.0<br>Imperil Mammals 0.0",
          "Somalia<br>Imperil Plants 49.0 Imperil Birds 21.0<br>Imperil Mammals 16.0",
          "Serbia<br>Imperil Plants 6.0 Imperil Birds 13.0<br>Imperil Mammals 6.0",
          "Sub-Saharan Africa (excluding high income)<br>Imperil Plants 4710.0 Imperil Birds 968.0<br>Imperil Mammals 954.0",
          "South Sudan<br>Imperil Plants 17.0 Imperil Birds 21.0<br>Imperil Mammals 14.0",
          "Sub-Saharan Africa<br>Imperil Plants 4862.0 Imperil Birds 993.0<br>Imperil Mammals 967.0",
          "Small states<br>Imperil Plants 1328.0 Imperil Birds 468.0<br>Imperil Mammals 349.0",
          "Sao Tome and Principe<br>Imperil Plants 49.0 Imperil Birds 12.0<br>Imperil Mammals 4.0",
          "Suriname<br>Imperil Plants 27.0 Imperil Birds 9.0<br>Imperil Mammals 9.0",
          "Slovak Republic<br>Imperil Plants 25.0 Imperil Birds 12.0<br>Imperil Mammals 4.0",
          "Slovenia<br>Imperil Plants 7.0 Imperil Birds 10.0<br>Imperil Mammals 6.0",
          "Sweden<br>Imperil Plants 5.0 Imperil Birds 11.0<br>Imperil Mammals 1.0",
          "Eswatini<br>Imperil Plants 13.0 Imperil Birds 13.0<br>Imperil Mammals 9.0",
          "Sint Maarten (Dutch part)<br>Imperil Plants 3.0 Imperil Birds 1.0<br>Imperil Mammals 2.0",
          "Seychelles<br>Imperil Plants 61.0 Imperil Birds 13.0<br>Imperil Mammals 6.0",
          "Syrian Arab Republic<br>Imperil Plants 26.0 Imperil Birds 17.0<br>Imperil Mammals 14.0",
          "Turks and Caicos Islands<br>Imperil Plants 9.0 Imperil Birds 4.0<br>Imperil Mammals 2.0",
          "Chad<br>Imperil Plants 6.0 Imperil Birds 16.0<br>Imperil Mammals 16.0",
          "East Asia & Pacific (IDA & IBRD countries)<br>Imperil Plants 2878.0 Imperil Birds 799.0<br>Imperil Mammals 732.0",
          "Europe & Central Asia (IDA & IBRD countries)<br>Imperil Plants 489.0 Imperil Birds 367.0<br>Imperil Mammals 201.0",
          "Togo<br>Imperil Plants 13.0 Imperil Birds 13.0<br>Imperil Mammals 13.0",
          "Thailand<br>Imperil Plants 159.0 Imperil Birds 62.0<br>Imperil Mammals 59.0",
          "Tajikistan<br>Imperil Plants 12.0 Imperil Birds 15.0<br>Imperil Mammals 7.0",
          "Turkmenistan<br>Imperil Plants 4.0 Imperil Birds 19.0<br>Imperil Mammals 10.0",
          "Latin America & the Caribbean (IDA & IBRD countries)<br>Imperil Plants 5108.0 Imperil Birds 1054.0<br>Imperil Mammals 595.0",
          "Timor-Leste<br>Imperil Plants 2.0 Imperil Birds 6.0<br>Imperil Mammals 5.0",
          "Middle East & North Africa (IDA & IBRD countries)<br>Imperil Plants 331.0 Imperil Birds 181.0<br>Imperil Mammals 164.0",
          "Tonga<br>Imperil Plants 5.0 Imperil Birds 5.0<br>Imperil Mammals 2.0",
          "South Asia (IDA & IBRD)<br>Imperil Plants 794.0 Imperil Birds 253.0<br>Imperil Mammals 252.0",
          "Sub-Saharan Africa (IDA & IBRD countries)<br>Imperil Plants 4862.0 Imperil Birds 993.0<br>Imperil Mammals 967.0",
          "Trinidad and Tobago<br>Imperil Plants 50.0 Imperil Birds 5.0<br>Imperil Mammals 2.0",
          "Tunisia<br>Imperil Plants 9.0 Imperil Birds 11.0<br>Imperil Mammals 14.0",
          "Turkey<br>Imperil Plants 113.0 Imperil Birds 20.0<br>Imperil Mammals 19.0",
          "Tuvalu<br>Imperil Plants 0.0 Imperil Birds 1.0<br>Imperil Mammals 2.0",
          "Tanzania<br>Imperil Plants 644.0 Imperil Birds 49.0<br>Imperil Mammals 41.0",
          "Uganda<br>Imperil Plants 64.0 Imperil Birds 30.0<br>Imperil Mammals 31.0",
          "Ukraine<br>Imperil Plants 22.0 Imperil Birds 17.0<br>Imperil Mammals 11.0",
          "Upper middle income<br>Imperil Plants 7431.0 Imperil Birds 1730.0<br>Imperil Mammals 1221.0",
          "Uruguay<br>Imperil Plants 22.0 Imperil Birds 22.0<br>Imperil Mammals 10.0",
          "United States<br>Imperil Plants 510.0 Imperil Birds 91.0<br>Imperil Mammals 40.0",
          "Uzbekistan<br>Imperil Plants 16.0 Imperil Birds 19.0<br>Imperil Mammals 10.0",
          "St. Vincent and the Grenadines<br>Imperil Plants 6.0 Imperil Birds 4.0<br>Imperil Mammals 2.0",
          "Venezuela, RB<br>Imperil Plants 86.0 Imperil Birds 52.0<br>Imperil Mammals 35.0",
          "British Virgin Islands<br>Imperil Plants 20.0 Imperil Birds 3.0<br>Imperil Mammals 1.0",
          "Virgin Islands (U.S.)<br>Imperil Plants 17.0 Imperil Birds 3.0<br>Imperil Mammals 1.0",
          "Vietnam<br>Imperil Plants 231.0 Imperil Birds 52.0<br>Imperil Mammals 56.0",
          "Vanuatu<br>Imperil Plants 10.0 Imperil Birds 8.0<br>Imperil Mammals 8.0",
          "World<br>Imperil Plants 0.0 Imperil Birds 0.0<br>Imperil Mammals 0.0",
          "Samoa<br>Imperil Plants 2.0 Imperil Birds 6.0<br>Imperil Mammals 2.0",
          "Kosovo<br>Imperil Plants 0.0 Imperil Birds 0.0<br>Imperil Mammals 0.0",
          "Yemen, Rep.<br>Imperil Plants 163.0 Imperil Birds 16.0<br>Imperil Mammals 11.0",
          "South Africa<br>Imperil Plants 153.0 Imperil Birds 54.0<br>Imperil Mammals 30.0",
          "Zambia<br>Imperil Plants 23.0 Imperil Birds 20.0<br>Imperil Mammals 13.0",
          "Zimbabwe<br>Imperil Plants 52.0 Imperil Birds 19.0<br>Imperil Mammals 10.0"
         ],
         "type": "choropleth",
         "z": [
          "4.1999998688697796e-06",
          "0.0135",
          "0.5773119921875",
          "0.00770539978027344",
          "0.00016",
          "0.37932899424433714",
          "0.0032366000366210895",
          "0.2681519921875",
          "0.0033220001220703103",
          "0.000175",
          "9.800000190734858e-05",
          "1.25059",
          "0.038708000488281304",
          "0.0116561999511719",
          "0.0028060000610351603",
          "0.00683840026855469",
          "0.04261",
          "0.052902001953125",
          "0.014264000244140599",
          "0.0384019995117188",
          "6.10000014305115e-06",
          "0.00515",
          "0.02185",
          "0.08653400390625",
          "0.0136128002929688",
          "1e-05",
          "0.54475",
          "4.92554",
          "6.30000019073486e-05",
          "0.0038",
          "0.0276485009765625",
          "0.107377998046875",
          "0.22154400390625",
          "3.4702240625",
          "0.3785000036621095",
          "0.0125780004882813",
          "8.000000119209289e-06",
          "0.1803580078125",
          "2.098635",
          "0.10400599609375",
          "0.18596",
          "1.5226659375",
          "0.22318599609375",
          "0.5847501953125",
          "0.000365999984741211",
          "0.0009086000061035161",
          "0.0278619995117188",
          "0.34425790239334114",
          "0.0325360009765625",
          "nan",
          "0.000126999998092651",
          "0.00172669998168945",
          "0.02669",
          "0.11421",
          "5.5999999046325705e-05",
          "0.00043060001373291",
          "0.00617219970703125",
          "0.020161999511718796",
          "0.0196359997558594",
          "4.7430364871883395",
          "7.234343966091871",
          "6.421326392068863",
          "8.728012403564453",
          "10.43860930733785",
          "0.12469150390625",
          "0.000735999984741211",
          "1.0270765984496475",
          "0.0150559997558594",
          "0.18452",
          "0.0223160009765625",
          "0.12539599609375",
          "1.5828948027953509",
          "4.075633630990982",
          "0.22218",
          "0.0102205999755859",
          "0.17102",
          "7.999999821186071e-07",
          "0.0006430000305175781",
          "0.232",
          "0.03161",
          "0.0282239990234375",
          "0.09365400390625",
          "0.0",
          "0.06328",
          "0.00489600006103516",
          "0.01962",
          "0.0155640002441406",
          "0.0408419995117188",
          "0.000169899997711182",
          "2.1999999880790697e-06",
          "0.0350360009765625",
          "0.00025",
          "0.16516",
          "10.236886979999394",
          "nan",
          "0.04472",
          "5.494907230377197",
          "0.019224000244140598",
          "0.000961999969482422",
          "0.0207360009765625",
          "23.613614569253922",
          "29.98035288125515",
          "6.366738312001228",
          "1.0578618845367431",
          "0.903256015625",
          "5.308876427464485",
          "3.46000003814697e-05",
          "0.708603984375",
          "nan",
          "0.00759700012207031",
          "0.1069198046875",
          "0.00825",
          "0.000505",
          "0.0016719999694824199",
          "0.093507998046875",
          "0.0033482000732421896",
          "0.000975",
          "0.24956400390625",
          "0.03309",
          "0.0444960009765625",
          "0.00629",
          "0.09329599609375",
          "0.000121499996185303",
          "0.00011",
          "0.0617639990234375",
          "6.25e-05",
          "8.992083575210572",
          "0.18950580078125",
          "0.0013738000488281302",
          "0.04149",
          "0.00217",
          "0.000202399997711182",
          "9.25058588407427",
          "5.436353019556999",
          "3.16784924987793",
          "6.90000009536743e-05",
          "0.0206339990234375",
          "5.473856030211449",
          "29.630301069359778",
          "0.0005",
          "17.38132299032122",
          "0.02182",
          "0.000866999969482422",
          "0.0335639990234375",
          "nan",
          "nan",
          "0.05624",
          "nan",
          "0.0041360000610351595",
          "0.12457",
          "1e-05",
          "0.2321310039946438",
          "0.659483984375",
          "0.000126400003433228",
          "26.46245181948185",
          "0.00998",
          "0.04636",
          "3.4999999403953604e-06",
          "0.28494599609375",
          "0.21736030398845682",
          "0.00827",
          "0.1245551953125",
          "0.000293400001525879",
          "0.377336015625",
          "0.00221",
          "0.00038639999389648405",
          "0.03129",
          "0.2220919921875",
          "6.5739340625",
          "0.068447998046875",
          "0.00839",
          "0.0112959997558594",
          "0.0658339990234375",
          "0.03114",
          "0.0037660000610351602",
          "0.12114",
          "0.03636",
          "0.0",
          "0.101522001953125",
          "11.401871860351562",
          "2e-05",
          "0.5280054979178309",
          "0.01429",
          "0.0460060009765625",
          "0.738053984375",
          "0.0828",
          "0.000402999992370605",
          "0.3355619921875",
          "0.094562001953125",
          "5.273495222854614",
          "0.00499260009765625",
          "0.04904",
          "0.0317060009765625",
          "0.14997599609375",
          "9.170000076293951e-05",
          "0.03951849902153012",
          "9.975149670082033",
          "0.00155",
          "0.0",
          "0.069302001953125",
          "8.148895",
          "0.00486799987792969",
          "0.8353104846191406",
          "0.00977",
          "0.19035529296875",
          "0.08233",
          "0.000163500003814697",
          "0.0217939990234375",
          "0.0310760009765625",
          "0.0026060000610351602",
          "0.0",
          "0.062862001953125",
          "0.0272139990234375",
          "6.114497814788819",
          "0.07157",
          "6.115290914764405",
          "0.9117818993327022",
          "0.0005359999847412111",
          "0.153282001953125",
          "0.0194019995117188",
          "0.0124819995117188",
          "0.28073",
          "0.00590599975585938",
          "nan",
          "0.00040669998168945293",
          "0.00491",
          "0.000344000015258789",
          "0.0474839990234375",
          "4.69422448718071",
          "8.911100407714844",
          "0.00168199996948242",
          "0.16429",
          "0.0041239999389648405",
          "0.04127",
          "9.207157982988358",
          "0.00674799987792969",
          "0.21726860398769388",
          "9e-05",
          "0.8353104846191406",
          "6.115290914764405",
          "0.00236100006103516",
          "0.010511999511718799",
          "0.11817400390625",
          "1e-05",
          "0.45688",
          "0.0194180004882813",
          "0.096787998046875",
          "20.988595789270402",
          "0.018677399902343798",
          "3.1037",
          "0.0320878002929688",
          "0.00027",
          "0.465186015625",
          "3.61999988555908e-05",
          "0.00017489999771118202",
          "0.14902",
          "0.0044",
          "39.9582459",
          "0.00171",
          "nan",
          "0.00549",
          "0.09241",
          "0.484683984375",
          "0.13749599609375"
         ]
        }
       ],
       "layout": {
        "geo": {
         "projection": {
          "type": "equirectangular"
         },
         "showcoastlines": false,
         "showframe": false
        },
        "template": {
         "data": {
          "bar": [
           {
            "error_x": {
             "color": "#2a3f5f"
            },
            "error_y": {
             "color": "#2a3f5f"
            },
            "marker": {
             "line": {
              "color": "#E5ECF6",
              "width": 0.5
             }
            },
            "type": "bar"
           }
          ],
          "barpolar": [
           {
            "marker": {
             "line": {
              "color": "#E5ECF6",
              "width": 0.5
             }
            },
            "type": "barpolar"
           }
          ],
          "carpet": [
           {
            "aaxis": {
             "endlinecolor": "#2a3f5f",
             "gridcolor": "white",
             "linecolor": "white",
             "minorgridcolor": "white",
             "startlinecolor": "#2a3f5f"
            },
            "baxis": {
             "endlinecolor": "#2a3f5f",
             "gridcolor": "white",
             "linecolor": "white",
             "minorgridcolor": "white",
             "startlinecolor": "#2a3f5f"
            },
            "type": "carpet"
           }
          ],
          "choropleth": [
           {
            "colorbar": {
             "outlinewidth": 0,
             "ticks": ""
            },
            "type": "choropleth"
           }
          ],
          "contour": [
           {
            "colorbar": {
             "outlinewidth": 0,
             "ticks": ""
            },
            "colorscale": [
             [
              0,
              "#0d0887"
             ],
             [
              0.1111111111111111,
              "#46039f"
             ],
             [
              0.2222222222222222,
              "#7201a8"
             ],
             [
              0.3333333333333333,
              "#9c179e"
             ],
             [
              0.4444444444444444,
              "#bd3786"
             ],
             [
              0.5555555555555556,
              "#d8576b"
             ],
             [
              0.6666666666666666,
              "#ed7953"
             ],
             [
              0.7777777777777778,
              "#fb9f3a"
             ],
             [
              0.8888888888888888,
              "#fdca26"
             ],
             [
              1,
              "#f0f921"
             ]
            ],
            "type": "contour"
           }
          ],
          "contourcarpet": [
           {
            "colorbar": {
             "outlinewidth": 0,
             "ticks": ""
            },
            "type": "contourcarpet"
           }
          ],
          "heatmap": [
           {
            "colorbar": {
             "outlinewidth": 0,
             "ticks": ""
            },
            "colorscale": [
             [
              0,
              "#0d0887"
             ],
             [
              0.1111111111111111,
              "#46039f"
             ],
             [
              0.2222222222222222,
              "#7201a8"
             ],
             [
              0.3333333333333333,
              "#9c179e"
             ],
             [
              0.4444444444444444,
              "#bd3786"
             ],
             [
              0.5555555555555556,
              "#d8576b"
             ],
             [
              0.6666666666666666,
              "#ed7953"
             ],
             [
              0.7777777777777778,
              "#fb9f3a"
             ],
             [
              0.8888888888888888,
              "#fdca26"
             ],
             [
              1,
              "#f0f921"
             ]
            ],
            "type": "heatmap"
           }
          ],
          "heatmapgl": [
           {
            "colorbar": {
             "outlinewidth": 0,
             "ticks": ""
            },
            "colorscale": [
             [
              0,
              "#0d0887"
             ],
             [
              0.1111111111111111,
              "#46039f"
             ],
             [
              0.2222222222222222,
              "#7201a8"
             ],
             [
              0.3333333333333333,
              "#9c179e"
             ],
             [
              0.4444444444444444,
              "#bd3786"
             ],
             [
              0.5555555555555556,
              "#d8576b"
             ],
             [
              0.6666666666666666,
              "#ed7953"
             ],
             [
              0.7777777777777778,
              "#fb9f3a"
             ],
             [
              0.8888888888888888,
              "#fdca26"
             ],
             [
              1,
              "#f0f921"
             ]
            ],
            "type": "heatmapgl"
           }
          ],
          "histogram": [
           {
            "marker": {
             "colorbar": {
              "outlinewidth": 0,
              "ticks": ""
             }
            },
            "type": "histogram"
           }
          ],
          "histogram2d": [
           {
            "colorbar": {
             "outlinewidth": 0,
             "ticks": ""
            },
            "colorscale": [
             [
              0,
              "#0d0887"
             ],
             [
              0.1111111111111111,
              "#46039f"
             ],
             [
              0.2222222222222222,
              "#7201a8"
             ],
             [
              0.3333333333333333,
              "#9c179e"
             ],
             [
              0.4444444444444444,
              "#bd3786"
             ],
             [
              0.5555555555555556,
              "#d8576b"
             ],
             [
              0.6666666666666666,
              "#ed7953"
             ],
             [
              0.7777777777777778,
              "#fb9f3a"
             ],
             [
              0.8888888888888888,
              "#fdca26"
             ],
             [
              1,
              "#f0f921"
             ]
            ],
            "type": "histogram2d"
           }
          ],
          "histogram2dcontour": [
           {
            "colorbar": {
             "outlinewidth": 0,
             "ticks": ""
            },
            "colorscale": [
             [
              0,
              "#0d0887"
             ],
             [
              0.1111111111111111,
              "#46039f"
             ],
             [
              0.2222222222222222,
              "#7201a8"
             ],
             [
              0.3333333333333333,
              "#9c179e"
             ],
             [
              0.4444444444444444,
              "#bd3786"
             ],
             [
              0.5555555555555556,
              "#d8576b"
             ],
             [
              0.6666666666666666,
              "#ed7953"
             ],
             [
              0.7777777777777778,
              "#fb9f3a"
             ],
             [
              0.8888888888888888,
              "#fdca26"
             ],
             [
              1,
              "#f0f921"
             ]
            ],
            "type": "histogram2dcontour"
           }
          ],
          "mesh3d": [
           {
            "colorbar": {
             "outlinewidth": 0,
             "ticks": ""
            },
            "type": "mesh3d"
           }
          ],
          "parcoords": [
           {
            "line": {
             "colorbar": {
              "outlinewidth": 0,
              "ticks": ""
             }
            },
            "type": "parcoords"
           }
          ],
          "pie": [
           {
            "automargin": true,
            "type": "pie"
           }
          ],
          "scatter": [
           {
            "marker": {
             "colorbar": {
              "outlinewidth": 0,
              "ticks": ""
             }
            },
            "type": "scatter"
           }
          ],
          "scatter3d": [
           {
            "line": {
             "colorbar": {
              "outlinewidth": 0,
              "ticks": ""
             }
            },
            "marker": {
             "colorbar": {
              "outlinewidth": 0,
              "ticks": ""
             }
            },
            "type": "scatter3d"
           }
          ],
          "scattercarpet": [
           {
            "marker": {
             "colorbar": {
              "outlinewidth": 0,
              "ticks": ""
             }
            },
            "type": "scattercarpet"
           }
          ],
          "scattergeo": [
           {
            "marker": {
             "colorbar": {
              "outlinewidth": 0,
              "ticks": ""
             }
            },
            "type": "scattergeo"
           }
          ],
          "scattergl": [
           {
            "marker": {
             "colorbar": {
              "outlinewidth": 0,
              "ticks": ""
             }
            },
            "type": "scattergl"
           }
          ],
          "scattermapbox": [
           {
            "marker": {
             "colorbar": {
              "outlinewidth": 0,
              "ticks": ""
             }
            },
            "type": "scattermapbox"
           }
          ],
          "scatterpolar": [
           {
            "marker": {
             "colorbar": {
              "outlinewidth": 0,
              "ticks": ""
             }
            },
            "type": "scatterpolar"
           }
          ],
          "scatterpolargl": [
           {
            "marker": {
             "colorbar": {
              "outlinewidth": 0,
              "ticks": ""
             }
            },
            "type": "scatterpolargl"
           }
          ],
          "scatterternary": [
           {
            "marker": {
             "colorbar": {
              "outlinewidth": 0,
              "ticks": ""
             }
            },
            "type": "scatterternary"
           }
          ],
          "surface": [
           {
            "colorbar": {
             "outlinewidth": 0,
             "ticks": ""
            },
            "colorscale": [
             [
              0,
              "#0d0887"
             ],
             [
              0.1111111111111111,
              "#46039f"
             ],
             [
              0.2222222222222222,
              "#7201a8"
             ],
             [
              0.3333333333333333,
              "#9c179e"
             ],
             [
              0.4444444444444444,
              "#bd3786"
             ],
             [
              0.5555555555555556,
              "#d8576b"
             ],
             [
              0.6666666666666666,
              "#ed7953"
             ],
             [
              0.7777777777777778,
              "#fb9f3a"
             ],
             [
              0.8888888888888888,
              "#fdca26"
             ],
             [
              1,
              "#f0f921"
             ]
            ],
            "type": "surface"
           }
          ],
          "table": [
           {
            "cells": {
             "fill": {
              "color": "#EBF0F8"
             },
             "line": {
              "color": "white"
             }
            },
            "header": {
             "fill": {
              "color": "#C8D4E3"
             },
             "line": {
              "color": "white"
             }
            },
            "type": "table"
           }
          ]
         },
         "layout": {
          "annotationdefaults": {
           "arrowcolor": "#2a3f5f",
           "arrowhead": 0,
           "arrowwidth": 1
          },
          "coloraxis": {
           "colorbar": {
            "outlinewidth": 0,
            "ticks": ""
           }
          },
          "colorscale": {
           "diverging": [
            [
             0,
             "#8e0152"
            ],
            [
             0.1,
             "#c51b7d"
            ],
            [
             0.2,
             "#de77ae"
            ],
            [
             0.3,
             "#f1b6da"
            ],
            [
             0.4,
             "#fde0ef"
            ],
            [
             0.5,
             "#f7f7f7"
            ],
            [
             0.6,
             "#e6f5d0"
            ],
            [
             0.7,
             "#b8e186"
            ],
            [
             0.8,
             "#7fbc41"
            ],
            [
             0.9,
             "#4d9221"
            ],
            [
             1,
             "#276419"
            ]
           ],
           "sequential": [
            [
             0,
             "#0d0887"
            ],
            [
             0.1111111111111111,
             "#46039f"
            ],
            [
             0.2222222222222222,
             "#7201a8"
            ],
            [
             0.3333333333333333,
             "#9c179e"
            ],
            [
             0.4444444444444444,
             "#bd3786"
            ],
            [
             0.5555555555555556,
             "#d8576b"
            ],
            [
             0.6666666666666666,
             "#ed7953"
            ],
            [
             0.7777777777777778,
             "#fb9f3a"
            ],
            [
             0.8888888888888888,
             "#fdca26"
            ],
            [
             1,
             "#f0f921"
            ]
           ],
           "sequentialminus": [
            [
             0,
             "#0d0887"
            ],
            [
             0.1111111111111111,
             "#46039f"
            ],
            [
             0.2222222222222222,
             "#7201a8"
            ],
            [
             0.3333333333333333,
             "#9c179e"
            ],
            [
             0.4444444444444444,
             "#bd3786"
            ],
            [
             0.5555555555555556,
             "#d8576b"
            ],
            [
             0.6666666666666666,
             "#ed7953"
            ],
            [
             0.7777777777777778,
             "#fb9f3a"
            ],
            [
             0.8888888888888888,
             "#fdca26"
            ],
            [
             1,
             "#f0f921"
            ]
           ]
          },
          "colorway": [
           "#636efa",
           "#EF553B",
           "#00cc96",
           "#ab63fa",
           "#FFA15A",
           "#19d3f3",
           "#FF6692",
           "#B6E880",
           "#FF97FF",
           "#FECB52"
          ],
          "font": {
           "color": "#2a3f5f"
          },
          "geo": {
           "bgcolor": "white",
           "lakecolor": "white",
           "landcolor": "#E5ECF6",
           "showlakes": true,
           "showland": true,
           "subunitcolor": "white"
          },
          "hoverlabel": {
           "align": "left"
          },
          "hovermode": "closest",
          "mapbox": {
           "style": "light"
          },
          "paper_bgcolor": "white",
          "plot_bgcolor": "#E5ECF6",
          "polar": {
           "angularaxis": {
            "gridcolor": "white",
            "linecolor": "white",
            "ticks": ""
           },
           "bgcolor": "#E5ECF6",
           "radialaxis": {
            "gridcolor": "white",
            "linecolor": "white",
            "ticks": ""
           }
          },
          "scene": {
           "xaxis": {
            "backgroundcolor": "#E5ECF6",
            "gridcolor": "white",
            "gridwidth": 2,
            "linecolor": "white",
            "showbackground": true,
            "ticks": "",
            "zerolinecolor": "white"
           },
           "yaxis": {
            "backgroundcolor": "#E5ECF6",
            "gridcolor": "white",
            "gridwidth": 2,
            "linecolor": "white",
            "showbackground": true,
            "ticks": "",
            "zerolinecolor": "white"
           },
           "zaxis": {
            "backgroundcolor": "#E5ECF6",
            "gridcolor": "white",
            "gridwidth": 2,
            "linecolor": "white",
            "showbackground": true,
            "ticks": "",
            "zerolinecolor": "white"
           }
          },
          "shapedefaults": {
           "line": {
            "color": "#2a3f5f"
           }
          },
          "ternary": {
           "aaxis": {
            "gridcolor": "white",
            "linecolor": "white",
            "ticks": ""
           },
           "baxis": {
            "gridcolor": "white",
            "linecolor": "white",
            "ticks": ""
           },
           "bgcolor": "#E5ECF6",
           "caxis": {
            "gridcolor": "white",
            "linecolor": "white",
            "ticks": ""
           }
          },
          "title": {
           "x": 0.05
          },
          "xaxis": {
           "automargin": true,
           "gridcolor": "white",
           "linecolor": "white",
           "ticks": "",
           "title": {
            "standoff": 15
           },
           "zerolinecolor": "white",
           "zerolinewidth": 2
          },
          "yaxis": {
           "automargin": true,
           "gridcolor": "white",
           "linecolor": "white",
           "ticks": "",
           "title": {
            "standoff": 15
           },
           "zerolinecolor": "white",
           "zerolinewidth": 2
          }
         }
        },
        "title": {
         "text": "2016 Global Forest<br>Area(Million Sq km)"
        }
       }
      },
      "text/html": [
       "<div>                            <div id=\"35dee0de-9af9-4b73-87d6-24d69509263a\" class=\"plotly-graph-div\" style=\"height:525px; width:100%;\"></div>            <script type=\"text/javascript\">                require([\"plotly\"], function(Plotly) {                    window.PLOTLYENV=window.PLOTLYENV || {};                                    if (document.getElementById(\"35dee0de-9af9-4b73-87d6-24d69509263a\")) {                    Plotly.newPlot(                        \"35dee0de-9af9-4b73-87d6-24d69509263a\",                        [{\"autocolorscale\": false, \"colorbar\": {\"title\": {\"text\": \"Forest Area<br>(Million Sq km)\"}}, \"colorscale\": [[0.0, \"rgb(247,252,245)\"], [0.125, \"rgb(229,245,224)\"], [0.25, \"rgb(199,233,192)\"], [0.375, \"rgb(161,217,155)\"], [0.5, \"rgb(116,196,118)\"], [0.625, \"rgb(65,171,93)\"], [0.75, \"rgb(35,139,69)\"], [0.875, \"rgb(0,109,44)\"], [1.0, \"rgb(0,68,27)\"]], \"locations\": [\"ABW\", \"AFG\", \"AGO\", \"ALB\", \"AND\", \"ARB\", \"ARE\", \"ARG\", \"ARM\", \"ASM\", \"ATG\", \"AUS\", \"AUT\", \"AZE\", \"BDI\", \"BEL\", \"BEN\", \"BFA\", \"BGD\", \"BGR\", \"BHR\", \"BHS\", \"BIH\", \"BLR\", \"BLZ\", \"BMU\", \"BOL\", \"BRA\", \"BRB\", \"BRN\", \"BTN\", \"BWA\", \"CAF\", \"CAN\", \"CEB\", \"CHE\", \"CHI\", \"CHL\", \"CHN\", \"CIV\", \"CMR\", \"COD\", \"COG\", \"COL\", \"COM\", \"CPV\", \"CRI\", \"CSS\", \"CUB\", \"CUW\", \"CYM\", \"CYP\", \"CZE\", \"DEU\", \"DJI\", \"DMA\", \"DNK\", \"DOM\", \"DZA\", \"EAP\", \"EAR\", \"EAS\", \"ECA\", \"ECS\", \"ECU\", \"EGY\", \"EMU\", \"ERI\", \"ESP\", \"EST\", \"ETH\", \"EUU\", \"FCS\", \"FIN\", \"FJI\", \"FRA\", \"FRO\", \"FSM\", \"GAB\", \"GBR\", \"GEO\", \"GHA\", \"GIB\", \"GIN\", \"GMB\", \"GNB\", \"GNQ\", \"GRC\", \"GRD\", \"GRL\", \"GTM\", \"GUM\", \"GUY\", \"HIC\", \"HKG\", \"HND\", \"HPC\", \"HRV\", \"HTI\", \"HUN\", \"IBD\", \"IBT\", \"IDA\", \"IDB\", \"IDN\", \"IDX\", \"IMN\", \"IND\", \"INX\", \"IRL\", \"IRN\", \"IRQ\", \"ISL\", \"ISR\", \"ITA\", \"JAM\", \"JOR\", \"JPN\", \"KAZ\", \"KEN\", \"KGZ\", \"KHM\", \"KIR\", \"KNA\", \"KOR\", \"KWT\", \"LAC\", \"LAO\", \"LBN\", \"LBR\", \"LBY\", \"LCA\", \"LCN\", \"LDC\", \"LIC\", \"LIE\", \"LKA\", \"LMC\", \"LMY\", \"LSO\", \"LTE\", \"LTU\", \"LUX\", \"LVA\", \"MAC\", \"MAF\", \"MAR\", \"MCO\", \"MDA\", \"MDG\", \"MDV\", \"MEA\", \"MEX\", \"MHL\", \"MIC\", \"MKD\", \"MLI\", \"MLT\", \"MMR\", \"MNA\", \"MNE\", \"MNG\", \"MNP\", \"MOZ\", \"MRT\", \"MUS\", \"MWI\", \"MYS\", \"NAC\", \"NAM\", \"NCL\", \"NER\", \"NGA\", \"NIC\", \"NLD\", \"NOR\", \"NPL\", \"NRU\", \"NZL\", \"OED\", \"OMN\", \"OSS\", \"PAK\", \"PAN\", \"PER\", \"PHL\", \"PLW\", \"PNG\", \"POL\", \"PRE\", \"PRI\", \"PRK\", \"PRT\", \"PRY\", \"PSE\", \"PSS\", \"PST\", \"PYF\", \"QAT\", \"ROU\", \"RUS\", \"RWA\", \"SAS\", \"SAU\", \"SDN\", \"SEN\", \"SGP\", \"SLB\", \"SLE\", \"SLV\", \"SMR\", \"SOM\", \"SRB\", \"SSA\", \"SSD\", \"SSF\", \"SST\", \"STP\", \"SUR\", \"SVK\", \"SVN\", \"SWE\", \"SWZ\", \"SXM\", \"SYC\", \"SYR\", \"TCA\", \"TCD\", \"TEA\", \"TEC\", \"TGO\", \"THA\", \"TJK\", \"TKM\", \"TLA\", \"TLS\", \"TMN\", \"TON\", \"TSA\", \"TSS\", \"TTO\", \"TUN\", \"TUR\", \"TUV\", \"TZA\", \"UGA\", \"UKR\", \"UMC\", \"URY\", \"USA\", \"UZB\", \"VCT\", \"VEN\", \"VGB\", \"VIR\", \"VNM\", \"VUT\", \"WLD\", \"WSM\", \"XKX\", \"YEM\", \"ZAF\", \"ZMB\", \"ZWE\"], \"marker\": {\"line\": {\"color\": \"black\", \"width\": 0.5}}, \"text\": [\"Aruba<br>Imperil Plants 2.0 Imperil Birds 2.0<br>Imperil Mammals 2.0\", \"Afghanistan<br>Imperil Plants 5.0 Imperil Birds 16.0<br>Imperil Mammals 11.0\", \"Angola<br>Imperil Plants 34.0 Imperil Birds 32.0<br>Imperil Mammals 18.0\", \"Albania<br>Imperil Plants 4.0 Imperil Birds 8.0<br>Imperil Mammals 3.0\", \"Andorra<br>Imperil Plants 0.0 Imperil Birds 3.0<br>Imperil Mammals 2.0\", \"Arab World<br>Imperil Plants 415.0 Imperil Birds 319.0<br>Imperil Mammals 248.0\", \"United Arab Emirates<br>Imperil Plants 0.0 Imperil Birds 13.0<br>Imperil Mammals 8.0\", \"Argentina<br>Imperil Plants 70.0 Imperil Birds 52.0<br>Imperil Mammals 38.0\", \"Armenia<br>Imperil Plants 74.0 Imperil Birds 14.0<br>Imperil Mammals 9.0\", \"American Samoa<br>Imperil Plants 1.0 Imperil Birds 8.0<br>Imperil Mammals 1.0\", \"Antigua and Barbuda<br>Imperil Plants 4.0 Imperil Birds 3.0<br>Imperil Mammals 2.0\", \"Australia<br>Imperil Plants 108.0 Imperil Birds 52.0<br>Imperil Mammals 63.0\", \"Austria<br>Imperil Plants 17.0 Imperil Birds 13.0<br>Imperil Mammals 3.0\", \"Azerbaijan<br>Imperil Plants 44.0 Imperil Birds 17.0<br>Imperil Mammals 8.0\", \"Burundi<br>Imperil Plants 89.0 Imperil Birds 15.0<br>Imperil Mammals 14.0\", \"Belgium<br>Imperil Plants 0.0 Imperil Birds 8.0<br>Imperil Mammals 2.0\", \"Benin<br>Imperil Plants 20.0 Imperil Birds 12.0<br>Imperil Mammals 13.0\", \"Burkina Faso<br>Imperil Plants 4.0 Imperil Birds 12.0<br>Imperil Mammals 9.0\", \"Bangladesh<br>Imperil Plants 23.0 Imperil Birds 36.0<br>Imperil Mammals 37.0\", \"Bulgaria<br>Imperil Plants 9.0 Imperil Birds 17.0<br>Imperil Mammals 8.0\", \"Bahrain<br>Imperil Plants 0.0 Imperil Birds 7.0<br>Imperil Mammals 3.0\", \"Bahamas, The<br>Imperil Plants 7.0 Imperil Birds 10.0<br>Imperil Mammals 5.0\", \"Bosnia and Herzegovina<br>Imperil Plants 3.0 Imperil Birds 7.0<br>Imperil Mammals 4.0\", \"Belarus<br>Imperil Plants 1.0 Imperil Birds 9.0<br>Imperil Mammals 4.0\", \"Belize<br>Imperil Plants 46.0 Imperil Birds 6.0<br>Imperil Mammals 10.0\", \"Bermuda<br>Imperil Plants 8.0 Imperil Birds 3.0<br>Imperil Mammals 4.0\", \"Bolivia<br>Imperil Plants 106.0 Imperil Birds 55.0<br>Imperil Mammals 21.0\", \"Brazil<br>Imperil Plants 558.0 Imperil Birds 175.0<br>Imperil Mammals 80.0\", \"Barbados<br>Imperil Plants 3.0 Imperil Birds 4.0<br>Imperil Mammals 3.0\", \"Brunei Darussalam<br>Imperil Plants 127.0 Imperil Birds 31.0<br>Imperil Mammals 33.0\", \"Bhutan<br>Imperil Plants 43.0 Imperil Birds 21.0<br>Imperil Mammals 25.0\", \"Botswana<br>Imperil Plants 3.0 Imperil Birds 16.0<br>Imperil Mammals 11.0\", \"Central African Republic<br>Imperil Plants 26.0 Imperil Birds 16.0<br>Imperil Mammals 16.0\", \"Canada<br>Imperil Plants 18.0 Imperil Birds 24.0<br>Imperil Mammals 18.0\", \"Central Europe and the Baltics<br>Imperil Plants 137.0 Imperil Birds 133.0<br>Imperil Mammals 50.0\", \"Switzerland<br>Imperil Plants 4.0 Imperil Birds 9.0<br>Imperil Mammals 3.0\", \"Channel Islands<br>Imperil Plants 0.0 Imperil Birds 0.0<br>Imperil Mammals 0.0\", \"Chile<br>Imperil Plants 73.0 Imperil Birds 35.0<br>Imperil Mammals 19.0\", \"China<br>Imperil Plants 593.0 Imperil Birds 96.0<br>Imperil Mammals 73.0\", \"Cote d'Ivoire<br>Imperil Plants 118.0 Imperil Birds 25.0<br>Imperil Mammals 31.0\", \"Cameroon<br>Imperil Plants 555.0 Imperil Birds 29.0<br>Imperil Mammals 46.0\", \"Congo, Dem. Rep.<br>Imperil Plants 148.0 Imperil Birds 42.0<br>Imperil Mammals 32.0\", \"Congo, Rep.<br>Imperil Plants 46.0 Imperil Birds 7.0<br>Imperil Mammals 15.0\", \"Colombia<br>Imperil Plants 268.0 Imperil Birds 126.0<br>Imperil Mammals 58.0\", \"Comoros<br>Imperil Plants 9.0 Imperil Birds 14.0<br>Imperil Mammals 5.0\", \"Cabo Verde<br>Imperil Plants 51.0 Imperil Birds 7.0<br>Imperil Mammals 4.0\", \"Costa Rica<br>Imperil Plants 143.0 Imperil Birds 27.0<br>Imperil Mammals 11.0\", \"Caribbean small states<br>Imperil Plants 412.0 Imperil Birds 87.0<br>Imperil Mammals 61.0\", \"Cuba<br>Imperil Plants 179.0 Imperil Birds 19.0<br>Imperil Mammals 10.0\", \"Curacao<br>Imperil Plants 2.0 Imperil Birds 2.0<br>Imperil Mammals 3.0\", \"Cayman Islands<br>Imperil Plants 22.0 Imperil Birds 3.0<br>Imperil Mammals 1.0\", \"Cyprus<br>Imperil Plants 22.0 Imperil Birds 7.0<br>Imperil Mammals 6.0\", \"Czech Republic<br>Imperil Plants 26.0 Imperil Birds 9.0<br>Imperil Mammals 3.0\", \"Germany<br>Imperil Plants 36.0 Imperil Birds 11.0<br>Imperil Mammals 5.0\", \"Djibouti<br>Imperil Plants 3.0 Imperil Birds 12.0<br>Imperil Mammals 11.0\", \"Dominica<br>Imperil Plants 12.0 Imperil Birds 7.0<br>Imperil Mammals 3.0\", \"Denmark<br>Imperil Plants 1.0 Imperil Birds 9.0<br>Imperil Mammals 2.0\", \"Dominican Republic<br>Imperil Plants 47.0 Imperil Birds 17.0<br>Imperil Mammals 7.0\", \"Algeria<br>Imperil Plants 22.0 Imperil Birds 15.0<br>Imperil Mammals 14.0\", \"East Asia & Pacific (excluding high income)<br>Imperil Plants 2891.0 Imperil Birds 828.0<br>Imperil Mammals 737.0\", \"Early-demographic dividend<br>Imperil Plants 6415.0 Imperil Birds 1792.0<br>Imperil Mammals 1406.0\", \"East Asia & Pacific<br>Imperil Plants 3799.0 Imperil Birds 1224.0<br>Imperil Mammals 934.0\", \"Europe & Central Asia (excluding high income)<br>Imperil Plants 463.0 Imperil Birds 325.0<br>Imperil Mammals 179.0\", \"Europe & Central Asia<br>Imperil Plants 1306.0 Imperil Birds 678.0<br>Imperil Mammals 350.0\", \"Ecuador<br>Imperil Plants 1859.0 Imperil Birds 106.0<br>Imperil Mammals 47.0\", \"Egypt, Arab Rep.<br>Imperil Plants 8.0 Imperil Birds 14.0<br>Imperil Mammals 18.0\", \"Euro area<br>Imperil Plants 687.0 Imperil Birds 213.0<br>Imperil Mammals 99.0\", \"Eritrea<br>Imperil Plants 6.0 Imperil Birds 21.0<br>Imperil Mammals 15.0\", \"Spain<br>Imperil Plants 247.0 Imperil Birds 19.0<br>Imperil Mammals 17.0\", \"Estonia<br>Imperil Plants 0.0 Imperil Birds 9.0<br>Imperil Mammals 1.0\", \"Ethiopia<br>Imperil Plants 64.0 Imperil Birds 35.0<br>Imperil Mammals 34.0\", \"European Union<br>Imperil Plants 797.0 Imperil Birds 314.0<br>Imperil Mammals 138.0\", \"Fragile and conflict affected situations<br>Imperil Plants 1985.0 Imperil Birds 667.0<br>Imperil Mammals 566.0\", \"Finland<br>Imperil Plants 2.0 Imperil Birds 11.0<br>Imperil Mammals 2.0\", \"Fiji<br>Imperil Plants 78.0 Imperil Birds 14.0<br>Imperil Mammals 7.0\", \"France<br>Imperil Plants 47.0 Imperil Birds 16.0<br>Imperil Mammals 9.0\", \"Faroe Islands<br>Imperil Plants 0.0 Imperil Birds 6.0<br>Imperil Mammals 4.0\", \"Micronesia, Fed. Sts.<br>Imperil Plants 5.0 Imperil Birds 12.0<br>Imperil Mammals 5.0\", \"Gabon<br>Imperil Plants 173.0 Imperil Birds 7.0<br>Imperil Mammals 18.0\", \"United Kingdom<br>Imperil Plants 42.0 Imperil Birds 11.0<br>Imperil Mammals 5.0\", \"Georgia<br>Imperil Plants 63.0 Imperil Birds 14.0<br>Imperil Mammals 9.0\", \"Ghana<br>Imperil Plants 119.0 Imperil Birds 23.0<br>Imperil Mammals 21.0\", \"Gibraltar<br>Imperil Plants 1.0 Imperil Birds 6.0<br>Imperil Mammals 3.0\", \"Guinea<br>Imperil Plants 70.0 Imperil Birds 20.0<br>Imperil Mammals 30.0\", \"Gambia, The<br>Imperil Plants 6.0 Imperil Birds 14.0<br>Imperil Mammals 10.0\", \"Guinea-Bissau<br>Imperil Plants 6.0 Imperil Birds 12.0<br>Imperil Mammals 14.0\", \"Equatorial Guinea<br>Imperil Plants 98.0 Imperil Birds 6.0<br>Imperil Mammals 23.0\", \"Greece<br>Imperil Plants 72.0 Imperil Birds 17.0<br>Imperil Mammals 10.0\", \"Grenada<br>Imperil Plants 3.0 Imperil Birds 2.0<br>Imperil Mammals 3.0\", \"Greenland<br>Imperil Plants 1.0 Imperil Birds 6.0<br>Imperil Mammals 9.0\", \"Guatemala<br>Imperil Plants 120.0 Imperil Birds 17.0<br>Imperil Mammals 15.0\", \"Guam<br>Imperil Plants 5.0 Imperil Birds 14.0<br>Imperil Mammals 3.0\", \"Guyana<br>Imperil Plants 30.0 Imperil Birds 16.0<br>Imperil Mammals 11.0\", \"High income<br>Imperil Plants 2991.0 Imperil Birds 1123.0<br>Imperil Mammals 579.0\", \"Hong Kong<br>Imperil Plants 10.0 Imperil Birds 21.0<br>Imperil Mammals 4.0\", \"Honduras<br>Imperil Plants 134.0 Imperil Birds 14.0<br>Imperil Mammals 8.0\", \"Heavily indebted poor countries (HIPC)<br>Imperil Plants 4055.0 Imperil Birds 823.0<br>Imperil Mammals 799.0\", \"Croatia<br>Imperil Plants 8.0 Imperil Birds 14.0<br>Imperil Mammals 9.0\", \"Haiti<br>Imperil Plants 93.0 Imperil Birds 17.0<br>Imperil Mammals 4.0\", \"Hungary<br>Imperil Plants 43.0 Imperil Birds 13.0<br>Imperil Mammals 3.0\", \"IBRD only<br>Imperil Plants 9133.0 Imperil Birds 2276.0<br>Imperil Mammals 1627.0\", \"IDA & IBRD total<br>Imperil Plants 14462.0 Imperil Birds 3647.0<br>Imperil Mammals 2911.0\", \"IDA total<br>Imperil Plants 5329.0 Imperil Birds 1371.0<br>Imperil Mammals 1284.0\", \"IDA blend<br>Imperil Plants 1467.0 Imperil Birds 258.0<br>Imperil Mammals 234.0\", \"Indonesia<br>Imperil Plants 458.0 Imperil Birds 160.0<br>Imperil Mammals 191.0\", \"IDA only<br>Imperil Plants 3862.0 Imperil Birds 1113.0<br>Imperil Mammals 1050.0\", \"Isle of Man<br>Imperil Plants 0.0 Imperil Birds 0.0<br>Imperil Mammals 0.0\", \"India<br>Imperil Plants 396.0 Imperil Birds 93.0<br>Imperil Mammals 93.0\", \"Not classified<br>Imperil Plants 0.0 Imperil Birds 0.0<br>Imperil Mammals 0.0\", \"Ireland<br>Imperil Plants 3.0 Imperil Birds 9.0<br>Imperil Mammals 5.0\", \"Iran, Islamic Rep.<br>Imperil Plants 7.0 Imperil Birds 28.0<br>Imperil Mammals 18.0\", \"Iraq<br>Imperil Plants 2.0 Imperil Birds 17.0<br>Imperil Mammals 13.0\", \"Iceland<br>Imperil Plants 0.0 Imperil Birds 7.0<br>Imperil Mammals 6.0\", \"Israel<br>Imperil Plants 23.0 Imperil Birds 18.0<br>Imperil Mammals 15.0\", \"Italy<br>Imperil Plants 102.0 Imperil Birds 17.0<br>Imperil Mammals 8.0\", \"Jamaica<br>Imperil Plants 215.0 Imperil Birds 11.0<br>Imperil Mammals 7.0\", \"Jordan<br>Imperil Plants 8.0 Imperil Birds 14.0<br>Imperil Mammals 13.0\", \"Japan<br>Imperil Plants 50.0 Imperil Birds 49.0<br>Imperil Mammals 29.0\", \"Kazakhstan<br>Imperil Plants 14.0 Imperil Birds 27.0<br>Imperil Mammals 16.0\", \"Kenya<br>Imperil Plants 243.0 Imperil Birds 44.0<br>Imperil Mammals 30.0\", \"Kyrgyz Republic<br>Imperil Plants 13.0 Imperil Birds 15.0<br>Imperil Mammals 5.0\", \"Cambodia<br>Imperil Plants 37.0 Imperil Birds 31.0<br>Imperil Mammals 39.0\", \"Kiribati<br>Imperil Plants 0.0 Imperil Birds 6.0<br>Imperil Mammals 2.0\", \"St. Kitts and Nevis<br>Imperil Plants 2.0 Imperil Birds 3.0<br>Imperil Mammals 2.0\", \"South Korea<br>Imperil Plants 31.0 Imperil Birds 33.0<br>Imperil Mammals 12.0\", \"Kuwait<br>Imperil Plants 0.0 Imperil Birds 11.0<br>Imperil Mammals 7.0\", \"Latin America & Caribbean (excluding high income)<br>Imperil Plants 4924.0 Imperil Birds 980.0<br>Imperil Mammals 553.0\", \"Lao PDR<br>Imperil Plants 56.0 Imperil Birds 29.0<br>Imperil Mammals 45.0\", \"Lebanon<br>Imperil Plants 24.0 Imperil Birds 11.0<br>Imperil Mammals 10.0\", \"Liberia<br>Imperil Plants 53.0 Imperil Birds 14.0<br>Imperil Mammals 24.0\", \"Libya<br>Imperil Plants 7.0 Imperil Birds 8.0<br>Imperil Mammals 10.0\", \"St. Lucia<br>Imperil Plants 7.0 Imperil Birds 7.0<br>Imperil Mammals 2.0\", \"Latin America & Caribbean<br>Imperil Plants 5439.0 Imperil Birds 1117.0<br>Imperil Mammals 629.0\", \"Least developed countries: UN classification<br>Imperil Plants 3384.0 Imperil Birds 982.0<br>Imperil Mammals 957.0\", \"Low income<br>Imperil Plants 2373.0 Imperil Birds 590.0<br>Imperil Mammals 582.0\", \"Liechtenstein<br>Imperil Plants 0.0 Imperil Birds 2.0<br>Imperil Mammals 0.0\", \"Sri Lanka<br>Imperil Plants 297.0 Imperil Birds 16.0<br>Imperil Mammals 30.0\", \"Lower middle income<br>Imperil Plants 4315.0 Imperil Birds 1230.0<br>Imperil Mammals 1040.0\", \"Low & middle income<br>Imperil Plants 14119.0 Imperil Birds 3550.0<br>Imperil Mammals 2843.0\", \"Lesotho<br>Imperil Plants 4.0 Imperil Birds 8.0<br>Imperil Mammals 4.0\", \"Late-demographic dividend<br>Imperil Plants 4688.0 Imperil Birds 1303.0<br>Imperil Mammals 800.0\", \"Lithuania<br>Imperil Plants 1.0 Imperil Birds 10.0<br>Imperil Mammals 2.0\", \"Luxembourg<br>Imperil Plants 0.0 Imperil Birds 3.0<br>Imperil Mammals 0.0\", \"Latvia<br>Imperil Plants 0.0 Imperil Birds 11.0<br>Imperil Mammals 1.0\", \"Macau<br>Imperil Plants 0.0 Imperil Birds 4.0<br>Imperil Mammals 0.0\", \"St. Martin (French part)<br>Imperil Plants 3.0 Imperil Birds 1.0<br>Imperil Mammals 2.0\", \"Morocco<br>Imperil Plants 52.0 Imperil Birds 18.0<br>Imperil Mammals 18.0\", \"Monaco<br>Imperil Plants 1.0 Imperil Birds 0.0<br>Imperil Mammals 3.0\", \"Moldova<br>Imperil Plants 2.0 Imperil Birds 11.0<br>Imperil Mammals 4.0\", \"Madagascar<br>Imperil Plants 1111.0 Imperil Birds 37.0<br>Imperil Mammals 121.0\", \"Maldives<br>Imperil Plants 0.0 Imperil Birds 0.0<br>Imperil Mammals 2.0\", \"Middle East & North Africa<br>Imperil Plants 374.0 Imperil Birds 290.0<br>Imperil Mammals 228.0\", \"Mexico<br>Imperil Plants 484.0 Imperil Birds 71.0<br>Imperil Mammals 96.0\", \"Marshall Islands<br>Imperil Plants 0.0 Imperil Birds 4.0<br>Imperil Mammals 1.0\", \"Middle income<br>Imperil Plants 11746.0 Imperil Birds 2960.0<br>Imperil Mammals 2261.0\", \"North Macedonia<br>Imperil Plants 4.0 Imperil Birds 13.0<br>Imperil Mammals 6.0\", \"Mali<br>Imperil Plants 12.0 Imperil Birds 17.0<br>Imperil Mammals 14.0\", \"Malta<br>Imperil Plants 4.0 Imperil Birds 5.0<br>Imperil Mammals 2.0\", \"Myanmar<br>Imperil Plants 61.0 Imperil Birds 56.0<br>Imperil Mammals 49.0\", \"Middle East & North Africa (excluding high income)<br>Imperil Plants 337.0 Imperil Birds 196.0<br>Imperil Mammals 168.0\", \"Montenegro<br>Imperil Plants 3.0 Imperil Birds 13.0<br>Imperil Mammals 6.0\", \"Mongolia<br>Imperil Plants 0.0 Imperil Birds 24.0<br>Imperil Mammals 11.0\", \"Northern Mariana Islands<br>Imperil Plants 6.0 Imperil Birds 17.0<br>Imperil Mammals 3.0\", \"Mozambique<br>Imperil Plants 145.0 Imperil Birds 30.0<br>Imperil Mammals 17.0\", \"Mauritania<br>Imperil Plants 0.0 Imperil Birds 19.0<br>Imperil Mammals 18.0\", \"Mauritius<br>Imperil Plants 91.0 Imperil Birds 12.0<br>Imperil Mammals 7.0\", \"Malawi<br>Imperil Plants 34.0 Imperil Birds 19.0<br>Imperil Mammals 10.0\", \"Malaysia<br>Imperil Plants 727.0 Imperil Birds 63.0<br>Imperil Mammals 71.0\", \"North America<br>Imperil Plants 536.0 Imperil Birds 118.0<br>Imperil Mammals 62.0\", \"Namibia<br>Imperil Plants 27.0 Imperil Birds 32.0<br>Imperil Mammals 15.0\", \"New Caledonia<br>Imperil Plants 350.0 Imperil Birds 17.0<br>Imperil Mammals 9.0\", \"Niger<br>Imperil Plants 4.0 Imperil Birds 13.0<br>Imperil Mammals 13.0\", \"Nigeria<br>Imperil Plants 205.0 Imperil Birds 21.0<br>Imperil Mammals 31.0\", \"Nicaragua<br>Imperil Plants 50.0 Imperil Birds 17.0<br>Imperil Mammals 7.0\", \"Netherlands<br>Imperil Plants 1.0 Imperil Birds 10.0<br>Imperil Mammals 3.0\", \"Norway<br>Imperil Plants 10.0 Imperil Birds 11.0<br>Imperil Mammals 8.0\", \"Nepal<br>Imperil Plants 18.0 Imperil Birds 38.0<br>Imperil Mammals 29.0\", \"Nauru<br>Imperil Plants 0.0 Imperil Birds 2.0<br>Imperil Mammals 2.0\", \"New Zealand<br>Imperil Plants 21.0 Imperil Birds 69.0<br>Imperil Mammals 9.0\", \"OECD members<br>Imperil Plants 2502.0 Imperil Birds 880.0<br>Imperil Mammals 504.0\", \"Oman<br>Imperil Plants 6.0 Imperil Birds 13.0<br>Imperil Mammals 10.0\", \"Other small states<br>Imperil Plants 795.0 Imperil Birds 293.0<br>Imperil Mammals 234.0\", \"Pakistan<br>Imperil Plants 12.0 Imperil Birds 33.0<br>Imperil Mammals 25.0\", \"Panama<br>Imperil Plants 212.0 Imperil Birds 25.0<br>Imperil Mammals 17.0\", \"Peru<br>Imperil Plants 328.0 Imperil Birds 119.0<br>Imperil Mammals 53.0\", \"Philippines<br>Imperil Plants 254.0 Imperil Birds 93.0<br>Imperil Mammals 38.0\", \"Palau<br>Imperil Plants 5.0 Imperil Birds 6.0<br>Imperil Mammals 4.0\", \"Papua New Guinea<br>Imperil Plants 179.0 Imperil Birds 39.0<br>Imperil Mammals 41.0\", \"Poland<br>Imperil Plants 11.0 Imperil Birds 11.0<br>Imperil Mammals 4.0\", \"Pre-demographic dividend<br>Imperil Plants 3970.0 Imperil Birds 761.0<br>Imperil Mammals 799.0\", \"Puerto Rico<br>Imperil Plants 64.0 Imperil Birds 11.0<br>Imperil Mammals 2.0\", \"North Korea<br>Imperil Plants 17.0 Imperil Birds 29.0<br>Imperil Mammals 10.0\", \"Portugal<br>Imperil Plants 101.0 Imperil Birds 15.0<br>Imperil Mammals 13.0\", \"Paraguay<br>Imperil Plants 20.0 Imperil Birds 27.0<br>Imperil Mammals 10.0\", \"West Bank and Gaza<br>Imperil Plants 6.0 Imperil Birds 15.0<br>Imperil Mammals 4.0\", \"Pacific island small states<br>Imperil Plants 121.0 Imperil Birds 88.0<br>Imperil Mammals 54.0\", \"Post-demographic dividend<br>Imperil Plants 1807.0 Imperil Birds 693.0<br>Imperil Mammals 347.0\", \"French Polynesia<br>Imperil Plants 48.0 Imperil Birds 35.0<br>Imperil Mammals 0.0\", \"Qatar<br>Imperil Plants 0.0 Imperil Birds 9.0<br>Imperil Mammals 4.0\", \"Romania<br>Imperil Plants 7.0 Imperil Birds 17.0<br>Imperil Mammals 9.0\", \"Russian Federation<br>Imperil Plants 56.0 Imperil Birds 57.0<br>Imperil Mammals 34.0\", \"Rwanda<br>Imperil Plants 41.0 Imperil Birds 20.0<br>Imperil Mammals 24.0\", \"South Asia<br>Imperil Plants 794.0 Imperil Birds 253.0<br>Imperil Mammals 252.0\", \"Saudi Arabia<br>Imperil Plants 4.0 Imperil Birds 18.0<br>Imperil Mammals 11.0\", \"Sudan<br>Imperil Plants 17.0 Imperil Birds 26.0<br>Imperil Mammals 16.0\", \"Senegal<br>Imperil Plants 14.0 Imperil Birds 19.0<br>Imperil Mammals 19.0\", \"Singapore<br>Imperil Plants 62.0 Imperil Birds 22.0<br>Imperil Mammals 14.0\", \"Solomon Islands<br>Imperil Plants 16.0 Imperil Birds 24.0<br>Imperil Mammals 19.0\", \"Sierra Leone<br>Imperil Plants 72.0 Imperil Birds 16.0<br>Imperil Mammals 22.0\", \"El Salvador<br>Imperil Plants 33.0 Imperil Birds 7.0<br>Imperil Mammals 6.0\", \"San Marino<br>Imperil Plants 0.0 Imperil Birds 0.0<br>Imperil Mammals 0.0\", \"Somalia<br>Imperil Plants 49.0 Imperil Birds 21.0<br>Imperil Mammals 16.0\", \"Serbia<br>Imperil Plants 6.0 Imperil Birds 13.0<br>Imperil Mammals 6.0\", \"Sub-Saharan Africa (excluding high income)<br>Imperil Plants 4710.0 Imperil Birds 968.0<br>Imperil Mammals 954.0\", \"South Sudan<br>Imperil Plants 17.0 Imperil Birds 21.0<br>Imperil Mammals 14.0\", \"Sub-Saharan Africa<br>Imperil Plants 4862.0 Imperil Birds 993.0<br>Imperil Mammals 967.0\", \"Small states<br>Imperil Plants 1328.0 Imperil Birds 468.0<br>Imperil Mammals 349.0\", \"Sao Tome and Principe<br>Imperil Plants 49.0 Imperil Birds 12.0<br>Imperil Mammals 4.0\", \"Suriname<br>Imperil Plants 27.0 Imperil Birds 9.0<br>Imperil Mammals 9.0\", \"Slovak Republic<br>Imperil Plants 25.0 Imperil Birds 12.0<br>Imperil Mammals 4.0\", \"Slovenia<br>Imperil Plants 7.0 Imperil Birds 10.0<br>Imperil Mammals 6.0\", \"Sweden<br>Imperil Plants 5.0 Imperil Birds 11.0<br>Imperil Mammals 1.0\", \"Eswatini<br>Imperil Plants 13.0 Imperil Birds 13.0<br>Imperil Mammals 9.0\", \"Sint Maarten (Dutch part)<br>Imperil Plants 3.0 Imperil Birds 1.0<br>Imperil Mammals 2.0\", \"Seychelles<br>Imperil Plants 61.0 Imperil Birds 13.0<br>Imperil Mammals 6.0\", \"Syrian Arab Republic<br>Imperil Plants 26.0 Imperil Birds 17.0<br>Imperil Mammals 14.0\", \"Turks and Caicos Islands<br>Imperil Plants 9.0 Imperil Birds 4.0<br>Imperil Mammals 2.0\", \"Chad<br>Imperil Plants 6.0 Imperil Birds 16.0<br>Imperil Mammals 16.0\", \"East Asia & Pacific (IDA & IBRD countries)<br>Imperil Plants 2878.0 Imperil Birds 799.0<br>Imperil Mammals 732.0\", \"Europe & Central Asia (IDA & IBRD countries)<br>Imperil Plants 489.0 Imperil Birds 367.0<br>Imperil Mammals 201.0\", \"Togo<br>Imperil Plants 13.0 Imperil Birds 13.0<br>Imperil Mammals 13.0\", \"Thailand<br>Imperil Plants 159.0 Imperil Birds 62.0<br>Imperil Mammals 59.0\", \"Tajikistan<br>Imperil Plants 12.0 Imperil Birds 15.0<br>Imperil Mammals 7.0\", \"Turkmenistan<br>Imperil Plants 4.0 Imperil Birds 19.0<br>Imperil Mammals 10.0\", \"Latin America & the Caribbean (IDA & IBRD countries)<br>Imperil Plants 5108.0 Imperil Birds 1054.0<br>Imperil Mammals 595.0\", \"Timor-Leste<br>Imperil Plants 2.0 Imperil Birds 6.0<br>Imperil Mammals 5.0\", \"Middle East & North Africa (IDA & IBRD countries)<br>Imperil Plants 331.0 Imperil Birds 181.0<br>Imperil Mammals 164.0\", \"Tonga<br>Imperil Plants 5.0 Imperil Birds 5.0<br>Imperil Mammals 2.0\", \"South Asia (IDA & IBRD)<br>Imperil Plants 794.0 Imperil Birds 253.0<br>Imperil Mammals 252.0\", \"Sub-Saharan Africa (IDA & IBRD countries)<br>Imperil Plants 4862.0 Imperil Birds 993.0<br>Imperil Mammals 967.0\", \"Trinidad and Tobago<br>Imperil Plants 50.0 Imperil Birds 5.0<br>Imperil Mammals 2.0\", \"Tunisia<br>Imperil Plants 9.0 Imperil Birds 11.0<br>Imperil Mammals 14.0\", \"Turkey<br>Imperil Plants 113.0 Imperil Birds 20.0<br>Imperil Mammals 19.0\", \"Tuvalu<br>Imperil Plants 0.0 Imperil Birds 1.0<br>Imperil Mammals 2.0\", \"Tanzania<br>Imperil Plants 644.0 Imperil Birds 49.0<br>Imperil Mammals 41.0\", \"Uganda<br>Imperil Plants 64.0 Imperil Birds 30.0<br>Imperil Mammals 31.0\", \"Ukraine<br>Imperil Plants 22.0 Imperil Birds 17.0<br>Imperil Mammals 11.0\", \"Upper middle income<br>Imperil Plants 7431.0 Imperil Birds 1730.0<br>Imperil Mammals 1221.0\", \"Uruguay<br>Imperil Plants 22.0 Imperil Birds 22.0<br>Imperil Mammals 10.0\", \"United States<br>Imperil Plants 510.0 Imperil Birds 91.0<br>Imperil Mammals 40.0\", \"Uzbekistan<br>Imperil Plants 16.0 Imperil Birds 19.0<br>Imperil Mammals 10.0\", \"St. Vincent and the Grenadines<br>Imperil Plants 6.0 Imperil Birds 4.0<br>Imperil Mammals 2.0\", \"Venezuela, RB<br>Imperil Plants 86.0 Imperil Birds 52.0<br>Imperil Mammals 35.0\", \"British Virgin Islands<br>Imperil Plants 20.0 Imperil Birds 3.0<br>Imperil Mammals 1.0\", \"Virgin Islands (U.S.)<br>Imperil Plants 17.0 Imperil Birds 3.0<br>Imperil Mammals 1.0\", \"Vietnam<br>Imperil Plants 231.0 Imperil Birds 52.0<br>Imperil Mammals 56.0\", \"Vanuatu<br>Imperil Plants 10.0 Imperil Birds 8.0<br>Imperil Mammals 8.0\", \"World<br>Imperil Plants 0.0 Imperil Birds 0.0<br>Imperil Mammals 0.0\", \"Samoa<br>Imperil Plants 2.0 Imperil Birds 6.0<br>Imperil Mammals 2.0\", \"Kosovo<br>Imperil Plants 0.0 Imperil Birds 0.0<br>Imperil Mammals 0.0\", \"Yemen, Rep.<br>Imperil Plants 163.0 Imperil Birds 16.0<br>Imperil Mammals 11.0\", \"South Africa<br>Imperil Plants 153.0 Imperil Birds 54.0<br>Imperil Mammals 30.0\", \"Zambia<br>Imperil Plants 23.0 Imperil Birds 20.0<br>Imperil Mammals 13.0\", \"Zimbabwe<br>Imperil Plants 52.0 Imperil Birds 19.0<br>Imperil Mammals 10.0\"], \"type\": \"choropleth\", \"z\": [\"4.1999998688697796e-06\", \"0.0135\", \"0.5773119921875\", \"0.00770539978027344\", \"0.00016\", \"0.37932899424433714\", \"0.0032366000366210895\", \"0.2681519921875\", \"0.0033220001220703103\", \"0.000175\", \"9.800000190734858e-05\", \"1.25059\", \"0.038708000488281304\", \"0.0116561999511719\", \"0.0028060000610351603\", \"0.00683840026855469\", \"0.04261\", \"0.052902001953125\", \"0.014264000244140599\", \"0.0384019995117188\", \"6.10000014305115e-06\", \"0.00515\", \"0.02185\", \"0.08653400390625\", \"0.0136128002929688\", \"1e-05\", \"0.54475\", \"4.92554\", \"6.30000019073486e-05\", \"0.0038\", \"0.0276485009765625\", \"0.107377998046875\", \"0.22154400390625\", \"3.4702240625\", \"0.3785000036621095\", \"0.0125780004882813\", \"8.000000119209289e-06\", \"0.1803580078125\", \"2.098635\", \"0.10400599609375\", \"0.18596\", \"1.5226659375\", \"0.22318599609375\", \"0.5847501953125\", \"0.000365999984741211\", \"0.0009086000061035161\", \"0.0278619995117188\", \"0.34425790239334114\", \"0.0325360009765625\", \"nan\", \"0.000126999998092651\", \"0.00172669998168945\", \"0.02669\", \"0.11421\", \"5.5999999046325705e-05\", \"0.00043060001373291\", \"0.00617219970703125\", \"0.020161999511718796\", \"0.0196359997558594\", \"4.7430364871883395\", \"7.234343966091871\", \"6.421326392068863\", \"8.728012403564453\", \"10.43860930733785\", \"0.12469150390625\", \"0.000735999984741211\", \"1.0270765984496475\", \"0.0150559997558594\", \"0.18452\", \"0.0223160009765625\", \"0.12539599609375\", \"1.5828948027953509\", \"4.075633630990982\", \"0.22218\", \"0.0102205999755859\", \"0.17102\", \"7.999999821186071e-07\", \"0.0006430000305175781\", \"0.232\", \"0.03161\", \"0.0282239990234375\", \"0.09365400390625\", \"0.0\", \"0.06328\", \"0.00489600006103516\", \"0.01962\", \"0.0155640002441406\", \"0.0408419995117188\", \"0.000169899997711182\", \"2.1999999880790697e-06\", \"0.0350360009765625\", \"0.00025\", \"0.16516\", \"10.236886979999394\", \"nan\", \"0.04472\", \"5.494907230377197\", \"0.019224000244140598\", \"0.000961999969482422\", \"0.0207360009765625\", \"23.613614569253922\", \"29.98035288125515\", \"6.366738312001228\", \"1.0578618845367431\", \"0.903256015625\", \"5.308876427464485\", \"3.46000003814697e-05\", \"0.708603984375\", \"nan\", \"0.00759700012207031\", \"0.1069198046875\", \"0.00825\", \"0.000505\", \"0.0016719999694824199\", \"0.093507998046875\", \"0.0033482000732421896\", \"0.000975\", \"0.24956400390625\", \"0.03309\", \"0.0444960009765625\", \"0.00629\", \"0.09329599609375\", \"0.000121499996185303\", \"0.00011\", \"0.0617639990234375\", \"6.25e-05\", \"8.992083575210572\", \"0.18950580078125\", \"0.0013738000488281302\", \"0.04149\", \"0.00217\", \"0.000202399997711182\", \"9.25058588407427\", \"5.436353019556999\", \"3.16784924987793\", \"6.90000009536743e-05\", \"0.0206339990234375\", \"5.473856030211449\", \"29.630301069359778\", \"0.0005\", \"17.38132299032122\", \"0.02182\", \"0.000866999969482422\", \"0.0335639990234375\", \"nan\", \"nan\", \"0.05624\", \"nan\", \"0.0041360000610351595\", \"0.12457\", \"1e-05\", \"0.2321310039946438\", \"0.659483984375\", \"0.000126400003433228\", \"26.46245181948185\", \"0.00998\", \"0.04636\", \"3.4999999403953604e-06\", \"0.28494599609375\", \"0.21736030398845682\", \"0.00827\", \"0.1245551953125\", \"0.000293400001525879\", \"0.377336015625\", \"0.00221\", \"0.00038639999389648405\", \"0.03129\", \"0.2220919921875\", \"6.5739340625\", \"0.068447998046875\", \"0.00839\", \"0.0112959997558594\", \"0.0658339990234375\", \"0.03114\", \"0.0037660000610351602\", \"0.12114\", \"0.03636\", \"0.0\", \"0.101522001953125\", \"11.401871860351562\", \"2e-05\", \"0.5280054979178309\", \"0.01429\", \"0.0460060009765625\", \"0.738053984375\", \"0.0828\", \"0.000402999992370605\", \"0.3355619921875\", \"0.094562001953125\", \"5.273495222854614\", \"0.00499260009765625\", \"0.04904\", \"0.0317060009765625\", \"0.14997599609375\", \"9.170000076293951e-05\", \"0.03951849902153012\", \"9.975149670082033\", \"0.00155\", \"0.0\", \"0.069302001953125\", \"8.148895\", \"0.00486799987792969\", \"0.8353104846191406\", \"0.00977\", \"0.19035529296875\", \"0.08233\", \"0.000163500003814697\", \"0.0217939990234375\", \"0.0310760009765625\", \"0.0026060000610351602\", \"0.0\", \"0.062862001953125\", \"0.0272139990234375\", \"6.114497814788819\", \"0.07157\", \"6.115290914764405\", \"0.9117818993327022\", \"0.0005359999847412111\", \"0.153282001953125\", \"0.0194019995117188\", \"0.0124819995117188\", \"0.28073\", \"0.00590599975585938\", \"nan\", \"0.00040669998168945293\", \"0.00491\", \"0.000344000015258789\", \"0.0474839990234375\", \"4.69422448718071\", \"8.911100407714844\", \"0.00168199996948242\", \"0.16429\", \"0.0041239999389648405\", \"0.04127\", \"9.207157982988358\", \"0.00674799987792969\", \"0.21726860398769388\", \"9e-05\", \"0.8353104846191406\", \"6.115290914764405\", \"0.00236100006103516\", \"0.010511999511718799\", \"0.11817400390625\", \"1e-05\", \"0.45688\", \"0.0194180004882813\", \"0.096787998046875\", \"20.988595789270402\", \"0.018677399902343798\", \"3.1037\", \"0.0320878002929688\", \"0.00027\", \"0.465186015625\", \"3.61999988555908e-05\", \"0.00017489999771118202\", \"0.14902\", \"0.0044\", \"39.9582459\", \"0.00171\", \"nan\", \"0.00549\", \"0.09241\", \"0.484683984375\", \"0.13749599609375\"]}],                        {\"geo\": {\"projection\": {\"type\": \"equirectangular\"}, \"showcoastlines\": false, \"showframe\": false}, \"template\": {\"data\": {\"bar\": [{\"error_x\": {\"color\": \"#2a3f5f\"}, \"error_y\": {\"color\": \"#2a3f5f\"}, \"marker\": {\"line\": {\"color\": \"#E5ECF6\", \"width\": 0.5}}, \"type\": \"bar\"}], \"barpolar\": [{\"marker\": {\"line\": {\"color\": \"#E5ECF6\", \"width\": 0.5}}, \"type\": \"barpolar\"}], \"carpet\": [{\"aaxis\": {\"endlinecolor\": \"#2a3f5f\", \"gridcolor\": \"white\", \"linecolor\": \"white\", \"minorgridcolor\": \"white\", \"startlinecolor\": \"#2a3f5f\"}, \"baxis\": {\"endlinecolor\": \"#2a3f5f\", \"gridcolor\": \"white\", \"linecolor\": \"white\", \"minorgridcolor\": \"white\", \"startlinecolor\": \"#2a3f5f\"}, \"type\": \"carpet\"}], \"choropleth\": [{\"colorbar\": {\"outlinewidth\": 0, \"ticks\": \"\"}, \"type\": \"choropleth\"}], \"contour\": [{\"colorbar\": {\"outlinewidth\": 0, \"ticks\": \"\"}, \"colorscale\": [[0.0, \"#0d0887\"], [0.1111111111111111, \"#46039f\"], [0.2222222222222222, \"#7201a8\"], [0.3333333333333333, \"#9c179e\"], [0.4444444444444444, \"#bd3786\"], [0.5555555555555556, \"#d8576b\"], [0.6666666666666666, \"#ed7953\"], [0.7777777777777778, \"#fb9f3a\"], [0.8888888888888888, \"#fdca26\"], [1.0, \"#f0f921\"]], \"type\": \"contour\"}], \"contourcarpet\": [{\"colorbar\": {\"outlinewidth\": 0, \"ticks\": \"\"}, \"type\": \"contourcarpet\"}], \"heatmap\": [{\"colorbar\": {\"outlinewidth\": 0, \"ticks\": \"\"}, \"colorscale\": [[0.0, \"#0d0887\"], [0.1111111111111111, \"#46039f\"], [0.2222222222222222, \"#7201a8\"], [0.3333333333333333, \"#9c179e\"], [0.4444444444444444, \"#bd3786\"], [0.5555555555555556, \"#d8576b\"], [0.6666666666666666, \"#ed7953\"], [0.7777777777777778, \"#fb9f3a\"], [0.8888888888888888, \"#fdca26\"], [1.0, \"#f0f921\"]], \"type\": \"heatmap\"}], \"heatmapgl\": [{\"colorbar\": {\"outlinewidth\": 0, \"ticks\": \"\"}, \"colorscale\": [[0.0, \"#0d0887\"], [0.1111111111111111, \"#46039f\"], [0.2222222222222222, \"#7201a8\"], [0.3333333333333333, \"#9c179e\"], [0.4444444444444444, \"#bd3786\"], [0.5555555555555556, \"#d8576b\"], [0.6666666666666666, \"#ed7953\"], [0.7777777777777778, \"#fb9f3a\"], [0.8888888888888888, \"#fdca26\"], [1.0, \"#f0f921\"]], \"type\": \"heatmapgl\"}], \"histogram\": [{\"marker\": {\"colorbar\": {\"outlinewidth\": 0, \"ticks\": \"\"}}, \"type\": \"histogram\"}], \"histogram2d\": [{\"colorbar\": {\"outlinewidth\": 0, \"ticks\": \"\"}, \"colorscale\": [[0.0, \"#0d0887\"], [0.1111111111111111, \"#46039f\"], [0.2222222222222222, \"#7201a8\"], [0.3333333333333333, \"#9c179e\"], [0.4444444444444444, \"#bd3786\"], [0.5555555555555556, \"#d8576b\"], [0.6666666666666666, \"#ed7953\"], [0.7777777777777778, \"#fb9f3a\"], [0.8888888888888888, \"#fdca26\"], [1.0, \"#f0f921\"]], \"type\": \"histogram2d\"}], \"histogram2dcontour\": [{\"colorbar\": {\"outlinewidth\": 0, \"ticks\": \"\"}, \"colorscale\": [[0.0, \"#0d0887\"], [0.1111111111111111, \"#46039f\"], [0.2222222222222222, \"#7201a8\"], [0.3333333333333333, \"#9c179e\"], [0.4444444444444444, \"#bd3786\"], [0.5555555555555556, \"#d8576b\"], [0.6666666666666666, \"#ed7953\"], [0.7777777777777778, \"#fb9f3a\"], [0.8888888888888888, \"#fdca26\"], [1.0, \"#f0f921\"]], \"type\": \"histogram2dcontour\"}], \"mesh3d\": [{\"colorbar\": {\"outlinewidth\": 0, \"ticks\": \"\"}, \"type\": \"mesh3d\"}], \"parcoords\": [{\"line\": {\"colorbar\": {\"outlinewidth\": 0, \"ticks\": \"\"}}, \"type\": \"parcoords\"}], \"pie\": [{\"automargin\": true, \"type\": \"pie\"}], \"scatter\": [{\"marker\": {\"colorbar\": {\"outlinewidth\": 0, \"ticks\": \"\"}}, \"type\": \"scatter\"}], \"scatter3d\": [{\"line\": {\"colorbar\": {\"outlinewidth\": 0, \"ticks\": \"\"}}, \"marker\": {\"colorbar\": {\"outlinewidth\": 0, \"ticks\": \"\"}}, \"type\": \"scatter3d\"}], \"scattercarpet\": [{\"marker\": {\"colorbar\": {\"outlinewidth\": 0, \"ticks\": \"\"}}, \"type\": \"scattercarpet\"}], \"scattergeo\": [{\"marker\": {\"colorbar\": {\"outlinewidth\": 0, \"ticks\": \"\"}}, \"type\": \"scattergeo\"}], \"scattergl\": [{\"marker\": {\"colorbar\": {\"outlinewidth\": 0, \"ticks\": \"\"}}, \"type\": \"scattergl\"}], \"scattermapbox\": [{\"marker\": {\"colorbar\": {\"outlinewidth\": 0, \"ticks\": \"\"}}, \"type\": \"scattermapbox\"}], \"scatterpolar\": [{\"marker\": {\"colorbar\": {\"outlinewidth\": 0, \"ticks\": \"\"}}, \"type\": \"scatterpolar\"}], \"scatterpolargl\": [{\"marker\": {\"colorbar\": {\"outlinewidth\": 0, \"ticks\": \"\"}}, \"type\": \"scatterpolargl\"}], \"scatterternary\": [{\"marker\": {\"colorbar\": {\"outlinewidth\": 0, \"ticks\": \"\"}}, \"type\": \"scatterternary\"}], \"surface\": [{\"colorbar\": {\"outlinewidth\": 0, \"ticks\": \"\"}, \"colorscale\": [[0.0, \"#0d0887\"], [0.1111111111111111, \"#46039f\"], [0.2222222222222222, \"#7201a8\"], [0.3333333333333333, \"#9c179e\"], [0.4444444444444444, \"#bd3786\"], [0.5555555555555556, \"#d8576b\"], [0.6666666666666666, \"#ed7953\"], [0.7777777777777778, \"#fb9f3a\"], [0.8888888888888888, \"#fdca26\"], [1.0, \"#f0f921\"]], \"type\": \"surface\"}], \"table\": [{\"cells\": {\"fill\": {\"color\": \"#EBF0F8\"}, \"line\": {\"color\": \"white\"}}, \"header\": {\"fill\": {\"color\": \"#C8D4E3\"}, \"line\": {\"color\": \"white\"}}, \"type\": \"table\"}]}, \"layout\": {\"annotationdefaults\": {\"arrowcolor\": \"#2a3f5f\", \"arrowhead\": 0, \"arrowwidth\": 1}, \"coloraxis\": {\"colorbar\": {\"outlinewidth\": 0, \"ticks\": \"\"}}, \"colorscale\": {\"diverging\": [[0, \"#8e0152\"], [0.1, \"#c51b7d\"], [0.2, \"#de77ae\"], [0.3, \"#f1b6da\"], [0.4, \"#fde0ef\"], [0.5, \"#f7f7f7\"], [0.6, \"#e6f5d0\"], [0.7, \"#b8e186\"], [0.8, \"#7fbc41\"], [0.9, \"#4d9221\"], [1, \"#276419\"]], \"sequential\": [[0.0, \"#0d0887\"], [0.1111111111111111, \"#46039f\"], [0.2222222222222222, \"#7201a8\"], [0.3333333333333333, \"#9c179e\"], [0.4444444444444444, \"#bd3786\"], [0.5555555555555556, \"#d8576b\"], [0.6666666666666666, \"#ed7953\"], [0.7777777777777778, \"#fb9f3a\"], [0.8888888888888888, \"#fdca26\"], [1.0, \"#f0f921\"]], \"sequentialminus\": [[0.0, \"#0d0887\"], [0.1111111111111111, \"#46039f\"], [0.2222222222222222, \"#7201a8\"], [0.3333333333333333, \"#9c179e\"], [0.4444444444444444, \"#bd3786\"], [0.5555555555555556, \"#d8576b\"], [0.6666666666666666, \"#ed7953\"], [0.7777777777777778, \"#fb9f3a\"], [0.8888888888888888, \"#fdca26\"], [1.0, \"#f0f921\"]]}, \"colorway\": [\"#636efa\", \"#EF553B\", \"#00cc96\", \"#ab63fa\", \"#FFA15A\", \"#19d3f3\", \"#FF6692\", \"#B6E880\", \"#FF97FF\", \"#FECB52\"], \"font\": {\"color\": \"#2a3f5f\"}, \"geo\": {\"bgcolor\": \"white\", \"lakecolor\": \"white\", \"landcolor\": \"#E5ECF6\", \"showlakes\": true, \"showland\": true, \"subunitcolor\": \"white\"}, \"hoverlabel\": {\"align\": \"left\"}, \"hovermode\": \"closest\", \"mapbox\": {\"style\": \"light\"}, \"paper_bgcolor\": \"white\", \"plot_bgcolor\": \"#E5ECF6\", \"polar\": {\"angularaxis\": {\"gridcolor\": \"white\", \"linecolor\": \"white\", \"ticks\": \"\"}, \"bgcolor\": \"#E5ECF6\", \"radialaxis\": {\"gridcolor\": \"white\", \"linecolor\": \"white\", \"ticks\": \"\"}}, \"scene\": {\"xaxis\": {\"backgroundcolor\": \"#E5ECF6\", \"gridcolor\": \"white\", \"gridwidth\": 2, \"linecolor\": \"white\", \"showbackground\": true, \"ticks\": \"\", \"zerolinecolor\": \"white\"}, \"yaxis\": {\"backgroundcolor\": \"#E5ECF6\", \"gridcolor\": \"white\", \"gridwidth\": 2, \"linecolor\": \"white\", \"showbackground\": true, \"ticks\": \"\", \"zerolinecolor\": \"white\"}, \"zaxis\": {\"backgroundcolor\": \"#E5ECF6\", \"gridcolor\": \"white\", \"gridwidth\": 2, \"linecolor\": \"white\", \"showbackground\": true, \"ticks\": \"\", \"zerolinecolor\": \"white\"}}, \"shapedefaults\": {\"line\": {\"color\": \"#2a3f5f\"}}, \"ternary\": {\"aaxis\": {\"gridcolor\": \"white\", \"linecolor\": \"white\", \"ticks\": \"\"}, \"baxis\": {\"gridcolor\": \"white\", \"linecolor\": \"white\", \"ticks\": \"\"}, \"bgcolor\": \"#E5ECF6\", \"caxis\": {\"gridcolor\": \"white\", \"linecolor\": \"white\", \"ticks\": \"\"}}, \"title\": {\"x\": 0.05}, \"xaxis\": {\"automargin\": true, \"gridcolor\": \"white\", \"linecolor\": \"white\", \"ticks\": \"\", \"title\": {\"standoff\": 15}, \"zerolinecolor\": \"white\", \"zerolinewidth\": 2}, \"yaxis\": {\"automargin\": true, \"gridcolor\": \"white\", \"linecolor\": \"white\", \"ticks\": \"\", \"title\": {\"standoff\": 15}, \"zerolinecolor\": \"white\", \"zerolinewidth\": 2}}}, \"title\": {\"text\": \"2016 Global Forest<br>Area(Million Sq km)\"}},                        {\"responsive\": true}                    ).then(function(){\n",
       "                            \n",
       "var gd = document.getElementById('35dee0de-9af9-4b73-87d6-24d69509263a');\n",
       "var x = new MutationObserver(function (mutations, observer) {{\n",
       "        var display = window.getComputedStyle(gd).display;\n",
       "        if (!display || display === 'none') {{\n",
       "            console.log([gd, 'removed!']);\n",
       "            Plotly.purge(gd);\n",
       "            observer.disconnect();\n",
       "        }}\n",
       "}});\n",
       "\n",
       "// Listen for the removal of the full notebook cells\n",
       "var notebookContainer = gd.closest('#notebook-container');\n",
       "if (notebookContainer) {{\n",
       "    x.observe(notebookContainer, {childList: true});\n",
       "}}\n",
       "\n",
       "// Listen for the clearing of the current output cell\n",
       "var outputEl = gd.closest('.output');\n",
       "if (outputEl) {{\n",
       "    x.observe(outputEl, {childList: true});\n",
       "}}\n",
       "\n",
       "                        })                };                });            </script>        </div>"
      ]
     },
     "metadata": {},
     "output_type": "display_data"
    }
   ],
   "source": [
    "for col in forest_df2.columns:\n",
    "    forest_df2[col] = forest_df2[col].astype(str)\n",
    "\n",
    "forest_df2['text']= forest_df2['Country']  + '<br>' + \\\n",
    "    'Imperil Plants ' + forest_df2['plant'] + ' Imperil Birds ' + forest_df2['bird'] + '<br>' + \\\n",
    "    'Imperil Mammals ' + forest_df2['mammals'] \n",
    "\n",
    "fig = go.Figure(data=go.Choropleth(\n",
    "    locations = forest_df2['Country Code'],\n",
    "    z = forest_df2['2016'],\n",
    "    colorscale = 'Greens',\n",
    "    autocolorscale=False,\n",
    "    text = forest_df2['text'],\n",
    "    marker_line_color='black',\n",
    "    marker_line_width=0.5,\n",
    "    colorbar_title = 'Forest Area<br>(Million Sq km)',\n",
    "))\n",
    "\n",
    "fig.update_layout(\n",
    "    title_text='2016 Global Forest<br>Area(Million Sq km)',\n",
    "    geo=dict(\n",
    "        showframe=False,\n",
    "        showcoastlines=False,\n",
    "        projection_type='equirectangular',\n",
    "    ),\n",
    "    \n",
    ")\n",
    "\n",
    "fig.show()"
   ]
  },
  {
   "cell_type": "code",
   "execution_count": 5,
   "metadata": {
    "scrolled": true
   },
   "outputs": [
    {
     "data": {
      "text/html": [
       "<div>\n",
       "<style scoped>\n",
       "    .dataframe tbody tr th:only-of-type {\n",
       "        vertical-align: middle;\n",
       "    }\n",
       "\n",
       "    .dataframe tbody tr th {\n",
       "        vertical-align: top;\n",
       "    }\n",
       "\n",
       "    .dataframe thead th {\n",
       "        text-align: right;\n",
       "    }\n",
       "</style>\n",
       "<table border=\"1\" class=\"dataframe\">\n",
       "  <thead>\n",
       "    <tr style=\"text-align: right;\">\n",
       "      <th></th>\n",
       "      <th>1960</th>\n",
       "      <th>1961</th>\n",
       "      <th>1962</th>\n",
       "      <th>1963</th>\n",
       "      <th>1964</th>\n",
       "      <th>1965</th>\n",
       "      <th>1966</th>\n",
       "      <th>1967</th>\n",
       "      <th>1968</th>\n",
       "      <th>1969</th>\n",
       "      <th>...</th>\n",
       "      <th>2007</th>\n",
       "      <th>2008</th>\n",
       "      <th>2009</th>\n",
       "      <th>2010</th>\n",
       "      <th>2011</th>\n",
       "      <th>2012</th>\n",
       "      <th>2013</th>\n",
       "      <th>2014</th>\n",
       "      <th>2015</th>\n",
       "      <th>2016</th>\n",
       "    </tr>\n",
       "    <tr>\n",
       "      <th>Country</th>\n",
       "      <th></th>\n",
       "      <th></th>\n",
       "      <th></th>\n",
       "      <th></th>\n",
       "      <th></th>\n",
       "      <th></th>\n",
       "      <th></th>\n",
       "      <th></th>\n",
       "      <th></th>\n",
       "      <th></th>\n",
       "      <th></th>\n",
       "      <th></th>\n",
       "      <th></th>\n",
       "      <th></th>\n",
       "      <th></th>\n",
       "      <th></th>\n",
       "      <th></th>\n",
       "      <th></th>\n",
       "      <th></th>\n",
       "      <th></th>\n",
       "      <th></th>\n",
       "    </tr>\n",
       "  </thead>\n",
       "  <tbody>\n",
       "    <tr>\n",
       "      <th>Aruba</th>\n",
       "      <td>11092.675</td>\n",
       "      <td>11576.719</td>\n",
       "      <td>12713.489</td>\n",
       "      <td>12178.107</td>\n",
       "      <td>11840.743</td>\n",
       "      <td>10623.299</td>\n",
       "      <td>9933.903</td>\n",
       "      <td>12236.779</td>\n",
       "      <td>11378.701</td>\n",
       "      <td>14891.687</td>\n",
       "      <td>...</td>\n",
       "      <td>2823.590</td>\n",
       "      <td>2658.575</td>\n",
       "      <td>2629.239</td>\n",
       "      <td>2508.228</td>\n",
       "      <td>2500.894</td>\n",
       "      <td>1349.456</td>\n",
       "      <td>861.745</td>\n",
       "      <td>872.746</td>\n",
       "      <td>898.415</td>\n",
       "      <td>883.747</td>\n",
       "    </tr>\n",
       "    <tr>\n",
       "      <th>Afghanistan</th>\n",
       "      <td>414.371</td>\n",
       "      <td>491.378</td>\n",
       "      <td>689.396</td>\n",
       "      <td>707.731</td>\n",
       "      <td>839.743</td>\n",
       "      <td>1008.425</td>\n",
       "      <td>1092.766</td>\n",
       "      <td>1283.450</td>\n",
       "      <td>1224.778</td>\n",
       "      <td>942.419</td>\n",
       "      <td>...</td>\n",
       "      <td>2273.540</td>\n",
       "      <td>4206.049</td>\n",
       "      <td>6769.282</td>\n",
       "      <td>8463.436</td>\n",
       "      <td>12240.446</td>\n",
       "      <td>10755.311</td>\n",
       "      <td>9050.156</td>\n",
       "      <td>8467.103</td>\n",
       "      <td>9035.488</td>\n",
       "      <td>8672.455</td>\n",
       "    </tr>\n",
       "    <tr>\n",
       "      <th>Angola</th>\n",
       "      <td>550.050</td>\n",
       "      <td>454.708</td>\n",
       "      <td>1180.774</td>\n",
       "      <td>1151.438</td>\n",
       "      <td>1224.778</td>\n",
       "      <td>1188.108</td>\n",
       "      <td>1554.808</td>\n",
       "      <td>993.757</td>\n",
       "      <td>1672.152</td>\n",
       "      <td>2786.920</td>\n",
       "      <td>...</td>\n",
       "      <td>25151.953</td>\n",
       "      <td>25709.337</td>\n",
       "      <td>27792.193</td>\n",
       "      <td>29057.308</td>\n",
       "      <td>30586.447</td>\n",
       "      <td>34176.440</td>\n",
       "      <td>33692.396</td>\n",
       "      <td>44851.077</td>\n",
       "      <td>34583.477</td>\n",
       "      <td>34693.487</td>\n",
       "    </tr>\n",
       "    <tr>\n",
       "      <th>Albania</th>\n",
       "      <td>2024.184</td>\n",
       "      <td>2280.874</td>\n",
       "      <td>2464.224</td>\n",
       "      <td>2082.856</td>\n",
       "      <td>2016.850</td>\n",
       "      <td>2174.531</td>\n",
       "      <td>2552.232</td>\n",
       "      <td>2680.577</td>\n",
       "      <td>3072.946</td>\n",
       "      <td>3245.295</td>\n",
       "      <td>...</td>\n",
       "      <td>3927.357</td>\n",
       "      <td>4374.731</td>\n",
       "      <td>4378.398</td>\n",
       "      <td>4598.418</td>\n",
       "      <td>5240.143</td>\n",
       "      <td>4924.781</td>\n",
       "      <td>4913.780</td>\n",
       "      <td>5489.499</td>\n",
       "      <td>4616.753</td>\n",
       "      <td>4536.079</td>\n",
       "    </tr>\n",
       "    <tr>\n",
       "      <th>Andorra</th>\n",
       "      <td>0.000</td>\n",
       "      <td>0.000</td>\n",
       "      <td>0.000</td>\n",
       "      <td>0.000</td>\n",
       "      <td>0.000</td>\n",
       "      <td>0.000</td>\n",
       "      <td>0.000</td>\n",
       "      <td>0.000</td>\n",
       "      <td>0.000</td>\n",
       "      <td>0.000</td>\n",
       "      <td>...</td>\n",
       "      <td>539.049</td>\n",
       "      <td>539.049</td>\n",
       "      <td>517.047</td>\n",
       "      <td>517.047</td>\n",
       "      <td>491.378</td>\n",
       "      <td>487.711</td>\n",
       "      <td>476.710</td>\n",
       "      <td>462.042</td>\n",
       "      <td>465.709</td>\n",
       "      <td>469.376</td>\n",
       "    </tr>\n",
       "    <tr>\n",
       "      <th>...</th>\n",
       "      <td>...</td>\n",
       "      <td>...</td>\n",
       "      <td>...</td>\n",
       "      <td>...</td>\n",
       "      <td>...</td>\n",
       "      <td>...</td>\n",
       "      <td>...</td>\n",
       "      <td>...</td>\n",
       "      <td>...</td>\n",
       "      <td>...</td>\n",
       "      <td>...</td>\n",
       "      <td>...</td>\n",
       "      <td>...</td>\n",
       "      <td>...</td>\n",
       "      <td>...</td>\n",
       "      <td>...</td>\n",
       "      <td>...</td>\n",
       "      <td>...</td>\n",
       "      <td>...</td>\n",
       "      <td>...</td>\n",
       "      <td>...</td>\n",
       "    </tr>\n",
       "    <tr>\n",
       "      <th>Kosovo</th>\n",
       "      <td>0.000</td>\n",
       "      <td>0.000</td>\n",
       "      <td>0.000</td>\n",
       "      <td>0.000</td>\n",
       "      <td>0.000</td>\n",
       "      <td>0.000</td>\n",
       "      <td>0.000</td>\n",
       "      <td>0.000</td>\n",
       "      <td>0.000</td>\n",
       "      <td>0.000</td>\n",
       "      <td>...</td>\n",
       "      <td>0.000</td>\n",
       "      <td>7455.011</td>\n",
       "      <td>8192.078</td>\n",
       "      <td>8426.766</td>\n",
       "      <td>8368.094</td>\n",
       "      <td>7942.722</td>\n",
       "      <td>8074.734</td>\n",
       "      <td>7260.660</td>\n",
       "      <td>8408.431</td>\n",
       "      <td>8943.813</td>\n",
       "    </tr>\n",
       "    <tr>\n",
       "      <th>Yemen, Rep.</th>\n",
       "      <td>58.672</td>\n",
       "      <td>73.340</td>\n",
       "      <td>69.673</td>\n",
       "      <td>80.674</td>\n",
       "      <td>99.009</td>\n",
       "      <td>102.676</td>\n",
       "      <td>99.009</td>\n",
       "      <td>102.676</td>\n",
       "      <td>128.345</td>\n",
       "      <td>135.679</td>\n",
       "      <td>...</td>\n",
       "      <td>20971.573</td>\n",
       "      <td>22339.364</td>\n",
       "      <td>24565.233</td>\n",
       "      <td>23432.130</td>\n",
       "      <td>20612.207</td>\n",
       "      <td>18698.033</td>\n",
       "      <td>25492.984</td>\n",
       "      <td>24667.909</td>\n",
       "      <td>13171.864</td>\n",
       "      <td>10608.631</td>\n",
       "    </tr>\n",
       "    <tr>\n",
       "      <th>South Africa</th>\n",
       "      <td>97934.569</td>\n",
       "      <td>102213.958</td>\n",
       "      <td>105767.281</td>\n",
       "      <td>109826.650</td>\n",
       "      <td>119657.877</td>\n",
       "      <td>128260.659</td>\n",
       "      <td>128356.001</td>\n",
       "      <td>133885.837</td>\n",
       "      <td>138084.552</td>\n",
       "      <td>143280.691</td>\n",
       "      <td>...</td>\n",
       "      <td>466578.079</td>\n",
       "      <td>496772.157</td>\n",
       "      <td>503112.400</td>\n",
       "      <td>469816.040</td>\n",
       "      <td>477370.060</td>\n",
       "      <td>464674.906</td>\n",
       "      <td>459222.077</td>\n",
       "      <td>484495.041</td>\n",
       "      <td>463952.507</td>\n",
       "      <td>476643.994</td>\n",
       "    </tr>\n",
       "    <tr>\n",
       "      <th>Zambia</th>\n",
       "      <td>0.000</td>\n",
       "      <td>0.000</td>\n",
       "      <td>0.000</td>\n",
       "      <td>0.000</td>\n",
       "      <td>3278.298</td>\n",
       "      <td>3916.356</td>\n",
       "      <td>3501.985</td>\n",
       "      <td>4792.769</td>\n",
       "      <td>4572.749</td>\n",
       "      <td>4275.722</td>\n",
       "      <td>...</td>\n",
       "      <td>1928.842</td>\n",
       "      <td>2170.864</td>\n",
       "      <td>2508.228</td>\n",
       "      <td>2691.578</td>\n",
       "      <td>2922.599</td>\n",
       "      <td>3678.001</td>\n",
       "      <td>3956.693</td>\n",
       "      <td>4503.076</td>\n",
       "      <td>4532.412</td>\n",
       "      <td>5141.134</td>\n",
       "    </tr>\n",
       "    <tr>\n",
       "      <th>Zimbabwe</th>\n",
       "      <td>0.000</td>\n",
       "      <td>0.000</td>\n",
       "      <td>0.000</td>\n",
       "      <td>0.000</td>\n",
       "      <td>4473.740</td>\n",
       "      <td>5214.474</td>\n",
       "      <td>6046.883</td>\n",
       "      <td>5298.815</td>\n",
       "      <td>6384.247</td>\n",
       "      <td>6750.947</td>\n",
       "      <td>...</td>\n",
       "      <td>9886.232</td>\n",
       "      <td>7770.373</td>\n",
       "      <td>5603.176</td>\n",
       "      <td>7803.376</td>\n",
       "      <td>9622.208</td>\n",
       "      <td>7873.049</td>\n",
       "      <td>11771.070</td>\n",
       "      <td>12115.768</td>\n",
       "      <td>12317.453</td>\n",
       "      <td>10982.665</td>\n",
       "    </tr>\n",
       "  </tbody>\n",
       "</table>\n",
       "<p>264 rows × 57 columns</p>\n",
       "</div>"
      ],
      "text/plain": [
       "                   1960        1961        1962        1963        1964  \\\n",
       "Country                                                                   \n",
       "Aruba         11092.675   11576.719   12713.489   12178.107   11840.743   \n",
       "Afghanistan     414.371     491.378     689.396     707.731     839.743   \n",
       "Angola          550.050     454.708    1180.774    1151.438    1224.778   \n",
       "Albania        2024.184    2280.874    2464.224    2082.856    2016.850   \n",
       "Andorra           0.000       0.000       0.000       0.000       0.000   \n",
       "...                 ...         ...         ...         ...         ...   \n",
       "Kosovo            0.000       0.000       0.000       0.000       0.000   \n",
       "Yemen, Rep.      58.672      73.340      69.673      80.674      99.009   \n",
       "South Africa  97934.569  102213.958  105767.281  109826.650  119657.877   \n",
       "Zambia            0.000       0.000       0.000       0.000    3278.298   \n",
       "Zimbabwe          0.000       0.000       0.000       0.000    4473.740   \n",
       "\n",
       "                    1965        1966        1967        1968        1969  ...  \\\n",
       "Country                                                                   ...   \n",
       "Aruba          10623.299    9933.903   12236.779   11378.701   14891.687  ...   \n",
       "Afghanistan     1008.425    1092.766    1283.450    1224.778     942.419  ...   \n",
       "Angola          1188.108    1554.808     993.757    1672.152    2786.920  ...   \n",
       "Albania         2174.531    2552.232    2680.577    3072.946    3245.295  ...   \n",
       "Andorra            0.000       0.000       0.000       0.000       0.000  ...   \n",
       "...                  ...         ...         ...         ...         ...  ...   \n",
       "Kosovo             0.000       0.000       0.000       0.000       0.000  ...   \n",
       "Yemen, Rep.      102.676      99.009     102.676     128.345     135.679  ...   \n",
       "South Africa  128260.659  128356.001  133885.837  138084.552  143280.691  ...   \n",
       "Zambia          3916.356    3501.985    4792.769    4572.749    4275.722  ...   \n",
       "Zimbabwe        5214.474    6046.883    5298.815    6384.247    6750.947  ...   \n",
       "\n",
       "                    2007        2008        2009        2010        2011  \\\n",
       "Country                                                                    \n",
       "Aruba           2823.590    2658.575    2629.239    2508.228    2500.894   \n",
       "Afghanistan     2273.540    4206.049    6769.282    8463.436   12240.446   \n",
       "Angola         25151.953   25709.337   27792.193   29057.308   30586.447   \n",
       "Albania         3927.357    4374.731    4378.398    4598.418    5240.143   \n",
       "Andorra          539.049     539.049     517.047     517.047     491.378   \n",
       "...                  ...         ...         ...         ...         ...   \n",
       "Kosovo             0.000    7455.011    8192.078    8426.766    8368.094   \n",
       "Yemen, Rep.    20971.573   22339.364   24565.233   23432.130   20612.207   \n",
       "South Africa  466578.079  496772.157  503112.400  469816.040  477370.060   \n",
       "Zambia          1928.842    2170.864    2508.228    2691.578    2922.599   \n",
       "Zimbabwe        9886.232    7770.373    5603.176    7803.376    9622.208   \n",
       "\n",
       "                    2012        2013        2014        2015        2016  \n",
       "Country                                                                   \n",
       "Aruba           1349.456     861.745     872.746     898.415     883.747  \n",
       "Afghanistan    10755.311    9050.156    8467.103    9035.488    8672.455  \n",
       "Angola         34176.440   33692.396   44851.077   34583.477   34693.487  \n",
       "Albania         4924.781    4913.780    5489.499    4616.753    4536.079  \n",
       "Andorra          487.711     476.710     462.042     465.709     469.376  \n",
       "...                  ...         ...         ...         ...         ...  \n",
       "Kosovo          7942.722    8074.734    7260.660    8408.431    8943.813  \n",
       "Yemen, Rep.    18698.033   25492.984   24667.909   13171.864   10608.631  \n",
       "South Africa  464674.906  459222.077  484495.041  463952.507  476643.994  \n",
       "Zambia          3678.001    3956.693    4503.076    4532.412    5141.134  \n",
       "Zimbabwe        7873.049   11771.070   12115.768   12317.453   10982.665  \n",
       "\n",
       "[264 rows x 57 columns]"
      ]
     },
     "execution_count": 5,
     "metadata": {},
     "output_type": "execute_result"
    }
   ],
   "source": [
    "co2_df = pd.read_excel(open('CO2 Emission.xls','rb'), sheet_name='Data',header = 3)\n",
    "del co2_df['Indicator Name']\n",
    "del co2_df['Indicator Code']\n",
    "\n",
    "co2_df['Country Name'] = co2_df['Country Name'].str.replace('Korea, Rep.','South Korea')\n",
    "co2_df['Country Name'] = co2_df['Country Name'].str.replace('Korea, Dem. People’s Rep.','North Korea')\n",
    "co2_df['Country Name'] = co2_df['Country Name'].str.replace('Hong Kong SAR, China','Hong Kong')\n",
    "co2_df['Country Name'] = co2_df['Country Name'].str.replace('Macao SAR, China','Macau')\n",
    "\n",
    "name = co2_df.columns.tolist()\n",
    "name[name.index('Country Name')] = 'Country'\n",
    "co2_df.columns = name\n",
    "co2_df = co2_df.set_index('Country')\n",
    "co2_df2= co2_df.loc[:,'1960':'2016'] \n",
    "for col in co2_df2.columns:\n",
    "    co2_df2[col] = co2_df2[col].fillna(0)\n",
    "    \n",
    "co2_df2"
   ]
  },
  {
   "cell_type": "code",
   "execution_count": 6,
   "metadata": {},
   "outputs": [],
   "source": [
    "def dev(x):\n",
    "    return x / 10000\n",
    "\n",
    "co2_south = co2_df2.loc[co2_df2.index\n",
    "                           .isin(['Nepal','India','Pakistan','Bhutan','Afghanistan','Bangladesh','Maldives','Sri Lanka'])]\n",
    "co2_south = co2_south.apply(dev)\n",
    "\n",
    "\n",
    "co2_east = co2_df2.loc[co2_df2.index\n",
    "                           .isin(['China','Japan','Mongolia','North Korea','South Korea','Hong Kong','Macau'])]\n",
    "co2_east = co2_east.apply(dev)\n"
   ]
  },
  {
   "cell_type": "code",
   "execution_count": 7,
   "metadata": {},
   "outputs": [
    {
     "name": "stdout",
     "output_type": "stream",
     "text": [
      "[15.1645118, 16.2624116, 17.901927300000004, 19.4453676, 19.1982118, 20.9767068, 21.636400099999996, 21.982931599999997, 24.1530622, 24.4372547, 24.931932999999994, 25.732072399999996, 24.563766199999996, 25.469148500000003, 26.335660600000004, 28.567763500000005, 29.728369, 31.492196, 32.1225533, 33.8423763, 35.950167900000004, 38.7715577, 40.27466100000001, 43.51922259999999, 44.7627023, 49.2357089, 52.61741630000001, 56.2132765, 60.6881166, 66.0778732, 70.9443489, 74.92854439999999, 79.5669327, 82.61090939999998, 87.61526429999999, 92.72596220000001, 100.97671220000001, 104.8035934, 106.92531960000001, 113.53215349999999, 118.08583410000001, 119.74331810000001, 121.77226920000001, 126.96547460000001, 134.0464516, 141.6210068, 151.07013239999998, 162.94571190000005, 179.8175789, 197.7506757, 197.7587431, 210.60424410000002, 228.6205818, 230.789979, 252.56792529999998, 264.51354449999997, 273.6913121, 'Sum']\n"
     ]
    }
   ],
   "source": [
    "row2=co2_south.sum(axis=0).tolist()\n",
    "insert_inds = 57\n",
    "row2[insert_inds:insert_inds] = [\"Sum\"]\n",
    "print(row2)\n",
    "co2_south['Country'] = co2_south.index\n",
    "b_series = pd.Series(row2,index = co2_south.columns)\n",
    "co2_south = co2_south.append(b_series,ignore_index=True)\n",
    "co2_south = co2_south.set_index('Country')"
   ]
  },
  {
   "cell_type": "code",
   "execution_count": 8,
   "metadata": {},
   "outputs": [
    {
     "name": "stdout",
     "output_type": "stream",
     "text": [
      "[105.4178159, 88.0941745, 78.73342360000001, 82.18443730000001, 86.0516555, 93.9063695, 102.7467731, 101.9088636, 113.69203470000001, 134.8473244, 167.9232977, 185.2777419, 194.7683046, 206.7813966, 209.59911940000003, 222.0632524, 232.575808, 248.46161869999997, 260.98625719999995, 271.68619649999994, 268.8142021, 266.1519601, 276.6659825, 285.6134625, 308.3572966, 323.7957333, 336.05084730000004, 352.4357367, 382.44939830000004, 392.6520924, 394.4569898, 408.5298356999999, 424.36064139999996, 445.03188710000006, 470.49040130000003, 500.211803, 518.3784877, 520.6692626, 495.5580133, 503.1824397, 519.126189, 525.8844700000001, 565.3549579, 637.1262152999999, 710.2542626999999, 773.065939, 836.4676356, 856.6262347, 939.9712775, 928.3061838, 1062.1469167000002, 1161.6777307999998, 1195.9942502, 1221.2371448000004, 1219.4065784, 1199.9608441, 1174.8591290000002, 'Sum']\n"
     ]
    }
   ],
   "source": [
    "row=co2_east.sum(axis=0).tolist()\n",
    "insert_ind = 57\n",
    "row[insert_ind:insert_ind] = [\"Sum\"]\n",
    "print(row)\n",
    "co2_east['Country'] = co2_east.index\n",
    "a_series = pd.Series(row,index = co2_east.columns)\n",
    "co2_east = co2_east.append(a_series,ignore_index=True)\n",
    "co2_east = co2_east.set_index('Country')"
   ]
  },
  {
   "cell_type": "code",
   "execution_count": 9,
   "metadata": {},
   "outputs": [],
   "source": [
    "co2_east = co2_east.astype('float64').round(2) \n",
    "co2_south = co2_south.astype('float64').round(2)"
   ]
  },
  {
   "cell_type": "code",
   "execution_count": 10,
   "metadata": {},
   "outputs": [],
   "source": [
    "# plot_df = pd.DataFrame([co2_east],[co2_south],columns = [\"CO2 Emittion On South Asian Countried\",\"CO2 Emittion On East Asian Countried\"])\n",
    "# print(plot_df)\n",
    "\n",
    "co2_east =[105.4178159, 88.0941745, 78.73342360000001, 82.18443730000001, 86.0516555, 93.9063695, 102.7467731, 101.9088636, 113.69203470000001, 134.8473244, 167.9232977, 185.2777419, 194.7683046, 206.7813966, 209.59911940000003, 222.0632524, 232.575808, 248.46161869999997, 260.98625719999995, 271.68619649999994, 268.8142021, 266.1519601, 276.6659825, 285.6134625, 308.3572966, 323.7957333, 336.05084730000004, 352.4357367, 382.44939830000004, 392.6520924, 394.4569898, 408.5298356999999, 424.36064139999996, 445.03188710000006, 470.49040130000003, 500.211803, 518.3784877, 520.6692626, 495.5580133, 503.1824397, 519.126189, 525.8844700000001, 565.3549579, 637.1262152999999, 710.2542626999999, 773.065939, 836.4676356, 856.6262347, 939.9712775, 928.3061838, 1062.1469167000002, 1161.6777307999998, 1195.9942502, 1221.2371448000004, 1219.4065784, 1199.9608441, 1174.8591290000002, 'Sum']\n",
    "co2_south = [15.1645118, 16.2624116, 17.901927300000004, 19.4453676, 19.1982118, 20.9767068, 21.636400099999996, 21.982931599999997, 24.1530622, 24.4372547, 24.931932999999994, 25.732072399999996, 24.563766199999996, 25.469148500000003, 26.335660600000004, 28.567763500000005, 29.728369, 31.492196, 32.1225533, 33.8423763, 35.950167900000004, 38.7715577, 40.27466100000001, 43.51922259999999, 44.7627023, 49.2357089, 52.61741630000001, 56.2132765, 60.6881166, 66.0778732, 70.9443489, 74.92854439999999, 79.5669327, 82.61090939999998, 87.61526429999999, 92.72596220000001, 100.97671220000001, 104.8035934, 106.92531960000001, 113.53215349999999, 118.08583410000001, 119.74331810000001, 121.77226920000001, 126.96547460000001, 134.0464516, 141.6210068, 151.07013239999998, 162.94571190000005, 179.8175789, 197.7506757, 197.7587431, 210.60424410000002, 228.6205818, 230.789979, 252.56792529999998, 264.51354449999997, 273.6913121, 'Sum']\n",
    "east_series = pd.Series(co2_east) \n",
    "south_series = pd.Series(co2_south)\n",
    "frame = { 'CO2 Emittion On South Asia': south_series, 'CO2 Emittion On East Asia': east_series } \n",
    "result = pd.DataFrame(frame)\n",
    "result = result.drop(result.index[57])"
   ]
  },
  {
   "cell_type": "code",
   "execution_count": 17,
   "metadata": {},
   "outputs": [
    {
     "data": {
      "application/vnd.plotly.v1+json": {
       "config": {
        "plotlyServerURL": "https://plot.ly"
       },
       "data": [
        {
         "hovertemplate": "variable=CO2 Emittion On South Asia<br>x=%{x}<br>value=%{y}<extra></extra>",
         "legendgroup": "CO2 Emittion On South Asia",
         "line": {
          "color": "#636efa",
          "dash": "solid"
         },
         "mode": "lines",
         "name": "CO2 Emittion On South Asia",
         "orientation": "v",
         "showlegend": true,
         "type": "scatter",
         "x": [
          "1960",
          "1961",
          "1962",
          "1963",
          "1964",
          "1965",
          "1966",
          "1967",
          "1968",
          "1969",
          "1970",
          "1971",
          "1972",
          "1973",
          "1974",
          "1975",
          "1976",
          "1977",
          "1978",
          "1979",
          "1980",
          "1981",
          "1982",
          "1983",
          "1984",
          "1985",
          "1986",
          "1987",
          "1988",
          "1989",
          "1990",
          "1991",
          "1992",
          "1993",
          "1994",
          "1995",
          "1996",
          "1997",
          "1998",
          "1999",
          "2000",
          "2001",
          "2002",
          "2003",
          "2004",
          "2005",
          "2006",
          "2007",
          "2008",
          "2009",
          "2010",
          "2011",
          "2012",
          "2013",
          "2014",
          "2015",
          "2016"
         ],
         "xaxis": "x",
         "y": [
          15.1645118,
          16.2624116,
          17.901927300000004,
          19.4453676,
          19.1982118,
          20.9767068,
          21.636400099999996,
          21.982931599999997,
          24.1530622,
          24.4372547,
          24.931932999999994,
          25.732072399999996,
          24.563766199999996,
          25.469148500000003,
          26.335660600000004,
          28.567763500000005,
          29.728369,
          31.492196,
          32.1225533,
          33.8423763,
          35.950167900000004,
          38.7715577,
          40.27466100000001,
          43.51922259999999,
          44.7627023,
          49.2357089,
          52.61741630000001,
          56.2132765,
          60.6881166,
          66.0778732,
          70.9443489,
          74.92854439999999,
          79.5669327,
          82.61090939999998,
          87.61526429999999,
          92.72596220000001,
          100.97671220000001,
          104.8035934,
          106.92531960000001,
          113.53215349999999,
          118.08583410000001,
          119.74331810000001,
          121.77226920000001,
          126.96547460000001,
          134.0464516,
          141.6210068,
          151.07013239999998,
          162.94571190000005,
          179.8175789,
          197.7506757,
          197.7587431,
          210.60424410000002,
          228.6205818,
          230.789979,
          252.56792529999998,
          264.51354449999997,
          273.6913121
         ],
         "yaxis": "y"
        },
        {
         "hovertemplate": "variable=CO2 Emittion On East Asia<br>x=%{x}<br>value=%{y}<extra></extra>",
         "legendgroup": "CO2 Emittion On East Asia",
         "line": {
          "color": "#EF553B",
          "dash": "solid"
         },
         "mode": "lines",
         "name": "CO2 Emittion On East Asia",
         "orientation": "v",
         "showlegend": true,
         "type": "scatter",
         "x": [
          "1960",
          "1961",
          "1962",
          "1963",
          "1964",
          "1965",
          "1966",
          "1967",
          "1968",
          "1969",
          "1970",
          "1971",
          "1972",
          "1973",
          "1974",
          "1975",
          "1976",
          "1977",
          "1978",
          "1979",
          "1980",
          "1981",
          "1982",
          "1983",
          "1984",
          "1985",
          "1986",
          "1987",
          "1988",
          "1989",
          "1990",
          "1991",
          "1992",
          "1993",
          "1994",
          "1995",
          "1996",
          "1997",
          "1998",
          "1999",
          "2000",
          "2001",
          "2002",
          "2003",
          "2004",
          "2005",
          "2006",
          "2007",
          "2008",
          "2009",
          "2010",
          "2011",
          "2012",
          "2013",
          "2014",
          "2015",
          "2016"
         ],
         "xaxis": "x",
         "y": [
          105.4178159,
          88.0941745,
          78.73342360000001,
          82.18443730000001,
          86.0516555,
          93.9063695,
          102.7467731,
          101.9088636,
          113.69203470000001,
          134.8473244,
          167.9232977,
          185.2777419,
          194.7683046,
          206.7813966,
          209.59911940000003,
          222.0632524,
          232.575808,
          248.46161869999997,
          260.98625719999995,
          271.68619649999994,
          268.8142021,
          266.1519601,
          276.6659825,
          285.6134625,
          308.3572966,
          323.7957333,
          336.05084730000004,
          352.4357367,
          382.44939830000004,
          392.6520924,
          394.4569898,
          408.5298356999999,
          424.36064139999996,
          445.03188710000006,
          470.49040130000003,
          500.211803,
          518.3784877,
          520.6692626,
          495.5580133,
          503.1824397,
          519.126189,
          525.8844700000001,
          565.3549579,
          637.1262152999999,
          710.2542626999999,
          773.065939,
          836.4676356,
          856.6262347,
          939.9712775,
          928.3061838,
          1062.1469167000002,
          1161.6777307999998,
          1195.9942502,
          1221.2371448000004,
          1219.4065784,
          1199.9608441,
          1174.8591290000002
         ],
         "yaxis": "y"
        }
       ],
       "layout": {
        "legend": {
         "title": {
          "text": "variable"
         },
         "tracegroupgap": 0
        },
        "template": {
         "data": {
          "bar": [
           {
            "error_x": {
             "color": "#2a3f5f"
            },
            "error_y": {
             "color": "#2a3f5f"
            },
            "marker": {
             "line": {
              "color": "#E5ECF6",
              "width": 0.5
             }
            },
            "type": "bar"
           }
          ],
          "barpolar": [
           {
            "marker": {
             "line": {
              "color": "#E5ECF6",
              "width": 0.5
             }
            },
            "type": "barpolar"
           }
          ],
          "carpet": [
           {
            "aaxis": {
             "endlinecolor": "#2a3f5f",
             "gridcolor": "white",
             "linecolor": "white",
             "minorgridcolor": "white",
             "startlinecolor": "#2a3f5f"
            },
            "baxis": {
             "endlinecolor": "#2a3f5f",
             "gridcolor": "white",
             "linecolor": "white",
             "minorgridcolor": "white",
             "startlinecolor": "#2a3f5f"
            },
            "type": "carpet"
           }
          ],
          "choropleth": [
           {
            "colorbar": {
             "outlinewidth": 0,
             "ticks": ""
            },
            "type": "choropleth"
           }
          ],
          "contour": [
           {
            "colorbar": {
             "outlinewidth": 0,
             "ticks": ""
            },
            "colorscale": [
             [
              0,
              "#0d0887"
             ],
             [
              0.1111111111111111,
              "#46039f"
             ],
             [
              0.2222222222222222,
              "#7201a8"
             ],
             [
              0.3333333333333333,
              "#9c179e"
             ],
             [
              0.4444444444444444,
              "#bd3786"
             ],
             [
              0.5555555555555556,
              "#d8576b"
             ],
             [
              0.6666666666666666,
              "#ed7953"
             ],
             [
              0.7777777777777778,
              "#fb9f3a"
             ],
             [
              0.8888888888888888,
              "#fdca26"
             ],
             [
              1,
              "#f0f921"
             ]
            ],
            "type": "contour"
           }
          ],
          "contourcarpet": [
           {
            "colorbar": {
             "outlinewidth": 0,
             "ticks": ""
            },
            "type": "contourcarpet"
           }
          ],
          "heatmap": [
           {
            "colorbar": {
             "outlinewidth": 0,
             "ticks": ""
            },
            "colorscale": [
             [
              0,
              "#0d0887"
             ],
             [
              0.1111111111111111,
              "#46039f"
             ],
             [
              0.2222222222222222,
              "#7201a8"
             ],
             [
              0.3333333333333333,
              "#9c179e"
             ],
             [
              0.4444444444444444,
              "#bd3786"
             ],
             [
              0.5555555555555556,
              "#d8576b"
             ],
             [
              0.6666666666666666,
              "#ed7953"
             ],
             [
              0.7777777777777778,
              "#fb9f3a"
             ],
             [
              0.8888888888888888,
              "#fdca26"
             ],
             [
              1,
              "#f0f921"
             ]
            ],
            "type": "heatmap"
           }
          ],
          "heatmapgl": [
           {
            "colorbar": {
             "outlinewidth": 0,
             "ticks": ""
            },
            "colorscale": [
             [
              0,
              "#0d0887"
             ],
             [
              0.1111111111111111,
              "#46039f"
             ],
             [
              0.2222222222222222,
              "#7201a8"
             ],
             [
              0.3333333333333333,
              "#9c179e"
             ],
             [
              0.4444444444444444,
              "#bd3786"
             ],
             [
              0.5555555555555556,
              "#d8576b"
             ],
             [
              0.6666666666666666,
              "#ed7953"
             ],
             [
              0.7777777777777778,
              "#fb9f3a"
             ],
             [
              0.8888888888888888,
              "#fdca26"
             ],
             [
              1,
              "#f0f921"
             ]
            ],
            "type": "heatmapgl"
           }
          ],
          "histogram": [
           {
            "marker": {
             "colorbar": {
              "outlinewidth": 0,
              "ticks": ""
             }
            },
            "type": "histogram"
           }
          ],
          "histogram2d": [
           {
            "colorbar": {
             "outlinewidth": 0,
             "ticks": ""
            },
            "colorscale": [
             [
              0,
              "#0d0887"
             ],
             [
              0.1111111111111111,
              "#46039f"
             ],
             [
              0.2222222222222222,
              "#7201a8"
             ],
             [
              0.3333333333333333,
              "#9c179e"
             ],
             [
              0.4444444444444444,
              "#bd3786"
             ],
             [
              0.5555555555555556,
              "#d8576b"
             ],
             [
              0.6666666666666666,
              "#ed7953"
             ],
             [
              0.7777777777777778,
              "#fb9f3a"
             ],
             [
              0.8888888888888888,
              "#fdca26"
             ],
             [
              1,
              "#f0f921"
             ]
            ],
            "type": "histogram2d"
           }
          ],
          "histogram2dcontour": [
           {
            "colorbar": {
             "outlinewidth": 0,
             "ticks": ""
            },
            "colorscale": [
             [
              0,
              "#0d0887"
             ],
             [
              0.1111111111111111,
              "#46039f"
             ],
             [
              0.2222222222222222,
              "#7201a8"
             ],
             [
              0.3333333333333333,
              "#9c179e"
             ],
             [
              0.4444444444444444,
              "#bd3786"
             ],
             [
              0.5555555555555556,
              "#d8576b"
             ],
             [
              0.6666666666666666,
              "#ed7953"
             ],
             [
              0.7777777777777778,
              "#fb9f3a"
             ],
             [
              0.8888888888888888,
              "#fdca26"
             ],
             [
              1,
              "#f0f921"
             ]
            ],
            "type": "histogram2dcontour"
           }
          ],
          "mesh3d": [
           {
            "colorbar": {
             "outlinewidth": 0,
             "ticks": ""
            },
            "type": "mesh3d"
           }
          ],
          "parcoords": [
           {
            "line": {
             "colorbar": {
              "outlinewidth": 0,
              "ticks": ""
             }
            },
            "type": "parcoords"
           }
          ],
          "pie": [
           {
            "automargin": true,
            "type": "pie"
           }
          ],
          "scatter": [
           {
            "marker": {
             "colorbar": {
              "outlinewidth": 0,
              "ticks": ""
             }
            },
            "type": "scatter"
           }
          ],
          "scatter3d": [
           {
            "line": {
             "colorbar": {
              "outlinewidth": 0,
              "ticks": ""
             }
            },
            "marker": {
             "colorbar": {
              "outlinewidth": 0,
              "ticks": ""
             }
            },
            "type": "scatter3d"
           }
          ],
          "scattercarpet": [
           {
            "marker": {
             "colorbar": {
              "outlinewidth": 0,
              "ticks": ""
             }
            },
            "type": "scattercarpet"
           }
          ],
          "scattergeo": [
           {
            "marker": {
             "colorbar": {
              "outlinewidth": 0,
              "ticks": ""
             }
            },
            "type": "scattergeo"
           }
          ],
          "scattergl": [
           {
            "marker": {
             "colorbar": {
              "outlinewidth": 0,
              "ticks": ""
             }
            },
            "type": "scattergl"
           }
          ],
          "scattermapbox": [
           {
            "marker": {
             "colorbar": {
              "outlinewidth": 0,
              "ticks": ""
             }
            },
            "type": "scattermapbox"
           }
          ],
          "scatterpolar": [
           {
            "marker": {
             "colorbar": {
              "outlinewidth": 0,
              "ticks": ""
             }
            },
            "type": "scatterpolar"
           }
          ],
          "scatterpolargl": [
           {
            "marker": {
             "colorbar": {
              "outlinewidth": 0,
              "ticks": ""
             }
            },
            "type": "scatterpolargl"
           }
          ],
          "scatterternary": [
           {
            "marker": {
             "colorbar": {
              "outlinewidth": 0,
              "ticks": ""
             }
            },
            "type": "scatterternary"
           }
          ],
          "surface": [
           {
            "colorbar": {
             "outlinewidth": 0,
             "ticks": ""
            },
            "colorscale": [
             [
              0,
              "#0d0887"
             ],
             [
              0.1111111111111111,
              "#46039f"
             ],
             [
              0.2222222222222222,
              "#7201a8"
             ],
             [
              0.3333333333333333,
              "#9c179e"
             ],
             [
              0.4444444444444444,
              "#bd3786"
             ],
             [
              0.5555555555555556,
              "#d8576b"
             ],
             [
              0.6666666666666666,
              "#ed7953"
             ],
             [
              0.7777777777777778,
              "#fb9f3a"
             ],
             [
              0.8888888888888888,
              "#fdca26"
             ],
             [
              1,
              "#f0f921"
             ]
            ],
            "type": "surface"
           }
          ],
          "table": [
           {
            "cells": {
             "fill": {
              "color": "#EBF0F8"
             },
             "line": {
              "color": "white"
             }
            },
            "header": {
             "fill": {
              "color": "#C8D4E3"
             },
             "line": {
              "color": "white"
             }
            },
            "type": "table"
           }
          ]
         },
         "layout": {
          "annotationdefaults": {
           "arrowcolor": "#2a3f5f",
           "arrowhead": 0,
           "arrowwidth": 1
          },
          "coloraxis": {
           "colorbar": {
            "outlinewidth": 0,
            "ticks": ""
           }
          },
          "colorscale": {
           "diverging": [
            [
             0,
             "#8e0152"
            ],
            [
             0.1,
             "#c51b7d"
            ],
            [
             0.2,
             "#de77ae"
            ],
            [
             0.3,
             "#f1b6da"
            ],
            [
             0.4,
             "#fde0ef"
            ],
            [
             0.5,
             "#f7f7f7"
            ],
            [
             0.6,
             "#e6f5d0"
            ],
            [
             0.7,
             "#b8e186"
            ],
            [
             0.8,
             "#7fbc41"
            ],
            [
             0.9,
             "#4d9221"
            ],
            [
             1,
             "#276419"
            ]
           ],
           "sequential": [
            [
             0,
             "#0d0887"
            ],
            [
             0.1111111111111111,
             "#46039f"
            ],
            [
             0.2222222222222222,
             "#7201a8"
            ],
            [
             0.3333333333333333,
             "#9c179e"
            ],
            [
             0.4444444444444444,
             "#bd3786"
            ],
            [
             0.5555555555555556,
             "#d8576b"
            ],
            [
             0.6666666666666666,
             "#ed7953"
            ],
            [
             0.7777777777777778,
             "#fb9f3a"
            ],
            [
             0.8888888888888888,
             "#fdca26"
            ],
            [
             1,
             "#f0f921"
            ]
           ],
           "sequentialminus": [
            [
             0,
             "#0d0887"
            ],
            [
             0.1111111111111111,
             "#46039f"
            ],
            [
             0.2222222222222222,
             "#7201a8"
            ],
            [
             0.3333333333333333,
             "#9c179e"
            ],
            [
             0.4444444444444444,
             "#bd3786"
            ],
            [
             0.5555555555555556,
             "#d8576b"
            ],
            [
             0.6666666666666666,
             "#ed7953"
            ],
            [
             0.7777777777777778,
             "#fb9f3a"
            ],
            [
             0.8888888888888888,
             "#fdca26"
            ],
            [
             1,
             "#f0f921"
            ]
           ]
          },
          "colorway": [
           "#636efa",
           "#EF553B",
           "#00cc96",
           "#ab63fa",
           "#FFA15A",
           "#19d3f3",
           "#FF6692",
           "#B6E880",
           "#FF97FF",
           "#FECB52"
          ],
          "font": {
           "color": "#2a3f5f"
          },
          "geo": {
           "bgcolor": "white",
           "lakecolor": "white",
           "landcolor": "#E5ECF6",
           "showlakes": true,
           "showland": true,
           "subunitcolor": "white"
          },
          "hoverlabel": {
           "align": "left"
          },
          "hovermode": "closest",
          "mapbox": {
           "style": "light"
          },
          "paper_bgcolor": "white",
          "plot_bgcolor": "#E5ECF6",
          "polar": {
           "angularaxis": {
            "gridcolor": "white",
            "linecolor": "white",
            "ticks": ""
           },
           "bgcolor": "#E5ECF6",
           "radialaxis": {
            "gridcolor": "white",
            "linecolor": "white",
            "ticks": ""
           }
          },
          "scene": {
           "xaxis": {
            "backgroundcolor": "#E5ECF6",
            "gridcolor": "white",
            "gridwidth": 2,
            "linecolor": "white",
            "showbackground": true,
            "ticks": "",
            "zerolinecolor": "white"
           },
           "yaxis": {
            "backgroundcolor": "#E5ECF6",
            "gridcolor": "white",
            "gridwidth": 2,
            "linecolor": "white",
            "showbackground": true,
            "ticks": "",
            "zerolinecolor": "white"
           },
           "zaxis": {
            "backgroundcolor": "#E5ECF6",
            "gridcolor": "white",
            "gridwidth": 2,
            "linecolor": "white",
            "showbackground": true,
            "ticks": "",
            "zerolinecolor": "white"
           }
          },
          "shapedefaults": {
           "line": {
            "color": "#2a3f5f"
           }
          },
          "ternary": {
           "aaxis": {
            "gridcolor": "white",
            "linecolor": "white",
            "ticks": ""
           },
           "baxis": {
            "gridcolor": "white",
            "linecolor": "white",
            "ticks": ""
           },
           "bgcolor": "#E5ECF6",
           "caxis": {
            "gridcolor": "white",
            "linecolor": "white",
            "ticks": ""
           }
          },
          "title": {
           "x": 0.05
          },
          "xaxis": {
           "automargin": true,
           "gridcolor": "white",
           "linecolor": "white",
           "ticks": "",
           "title": {
            "standoff": 15
           },
           "zerolinecolor": "white",
           "zerolinewidth": 2
          },
          "yaxis": {
           "automargin": true,
           "gridcolor": "white",
           "linecolor": "white",
           "ticks": "",
           "title": {
            "standoff": 15
           },
           "zerolinecolor": "white",
           "zerolinewidth": 2
          }
         }
        },
        "title": {
         "text": "South & East Asia CO2 Emission (1960-2016)"
        },
        "xaxis": {
         "anchor": "y",
         "domain": [
          0,
          1
         ],
         "rangeslider": {
          "visible": true
         },
         "title": {
          "text": "Date"
         }
        },
        "yaxis": {
         "anchor": "x",
         "domain": [
          0,
          1
         ],
         "title": {
          "text": "CO2 In kt ( *10000)"
         }
        }
       }
      },
      "text/html": [
       "<div>                            <div id=\"b7b59ba6-e114-4364-83ec-a4c25969de80\" class=\"plotly-graph-div\" style=\"height:525px; width:100%;\"></div>            <script type=\"text/javascript\">                require([\"plotly\"], function(Plotly) {                    window.PLOTLYENV=window.PLOTLYENV || {};                                    if (document.getElementById(\"b7b59ba6-e114-4364-83ec-a4c25969de80\")) {                    Plotly.newPlot(                        \"b7b59ba6-e114-4364-83ec-a4c25969de80\",                        [{\"hovertemplate\": \"variable=CO2 Emittion On South Asia<br>x=%{x}<br>value=%{y}<extra></extra>\", \"legendgroup\": \"CO2 Emittion On South Asia\", \"line\": {\"color\": \"#636efa\", \"dash\": \"solid\"}, \"mode\": \"lines\", \"name\": \"CO2 Emittion On South Asia\", \"orientation\": \"v\", \"showlegend\": true, \"type\": \"scatter\", \"x\": [\"1960\", \"1961\", \"1962\", \"1963\", \"1964\", \"1965\", \"1966\", \"1967\", \"1968\", \"1969\", \"1970\", \"1971\", \"1972\", \"1973\", \"1974\", \"1975\", \"1976\", \"1977\", \"1978\", \"1979\", \"1980\", \"1981\", \"1982\", \"1983\", \"1984\", \"1985\", \"1986\", \"1987\", \"1988\", \"1989\", \"1990\", \"1991\", \"1992\", \"1993\", \"1994\", \"1995\", \"1996\", \"1997\", \"1998\", \"1999\", \"2000\", \"2001\", \"2002\", \"2003\", \"2004\", \"2005\", \"2006\", \"2007\", \"2008\", \"2009\", \"2010\", \"2011\", \"2012\", \"2013\", \"2014\", \"2015\", \"2016\"], \"xaxis\": \"x\", \"y\": [15.1645118, 16.2624116, 17.901927300000004, 19.4453676, 19.1982118, 20.9767068, 21.636400099999996, 21.982931599999997, 24.1530622, 24.4372547, 24.931932999999994, 25.732072399999996, 24.563766199999996, 25.469148500000003, 26.335660600000004, 28.567763500000005, 29.728369, 31.492196, 32.1225533, 33.8423763, 35.950167900000004, 38.7715577, 40.27466100000001, 43.51922259999999, 44.7627023, 49.2357089, 52.61741630000001, 56.2132765, 60.6881166, 66.0778732, 70.9443489, 74.92854439999999, 79.5669327, 82.61090939999998, 87.61526429999999, 92.72596220000001, 100.97671220000001, 104.8035934, 106.92531960000001, 113.53215349999999, 118.08583410000001, 119.74331810000001, 121.77226920000001, 126.96547460000001, 134.0464516, 141.6210068, 151.07013239999998, 162.94571190000005, 179.8175789, 197.7506757, 197.7587431, 210.60424410000002, 228.6205818, 230.789979, 252.56792529999998, 264.51354449999997, 273.6913121], \"yaxis\": \"y\"}, {\"hovertemplate\": \"variable=CO2 Emittion On East Asia<br>x=%{x}<br>value=%{y}<extra></extra>\", \"legendgroup\": \"CO2 Emittion On East Asia\", \"line\": {\"color\": \"#EF553B\", \"dash\": \"solid\"}, \"mode\": \"lines\", \"name\": \"CO2 Emittion On East Asia\", \"orientation\": \"v\", \"showlegend\": true, \"type\": \"scatter\", \"x\": [\"1960\", \"1961\", \"1962\", \"1963\", \"1964\", \"1965\", \"1966\", \"1967\", \"1968\", \"1969\", \"1970\", \"1971\", \"1972\", \"1973\", \"1974\", \"1975\", \"1976\", \"1977\", \"1978\", \"1979\", \"1980\", \"1981\", \"1982\", \"1983\", \"1984\", \"1985\", \"1986\", \"1987\", \"1988\", \"1989\", \"1990\", \"1991\", \"1992\", \"1993\", \"1994\", \"1995\", \"1996\", \"1997\", \"1998\", \"1999\", \"2000\", \"2001\", \"2002\", \"2003\", \"2004\", \"2005\", \"2006\", \"2007\", \"2008\", \"2009\", \"2010\", \"2011\", \"2012\", \"2013\", \"2014\", \"2015\", \"2016\"], \"xaxis\": \"x\", \"y\": [105.4178159, 88.0941745, 78.73342360000001, 82.18443730000001, 86.0516555, 93.9063695, 102.7467731, 101.9088636, 113.69203470000001, 134.8473244, 167.9232977, 185.2777419, 194.7683046, 206.7813966, 209.59911940000003, 222.0632524, 232.575808, 248.46161869999997, 260.98625719999995, 271.68619649999994, 268.8142021, 266.1519601, 276.6659825, 285.6134625, 308.3572966, 323.7957333, 336.05084730000004, 352.4357367, 382.44939830000004, 392.6520924, 394.4569898, 408.5298356999999, 424.36064139999996, 445.03188710000006, 470.49040130000003, 500.211803, 518.3784877, 520.6692626, 495.5580133, 503.1824397, 519.126189, 525.8844700000001, 565.3549579, 637.1262152999999, 710.2542626999999, 773.065939, 836.4676356, 856.6262347, 939.9712775, 928.3061838, 1062.1469167000002, 1161.6777307999998, 1195.9942502, 1221.2371448000004, 1219.4065784, 1199.9608441, 1174.8591290000002], \"yaxis\": \"y\"}],                        {\"legend\": {\"title\": {\"text\": \"variable\"}, \"tracegroupgap\": 0}, \"template\": {\"data\": {\"bar\": [{\"error_x\": {\"color\": \"#2a3f5f\"}, \"error_y\": {\"color\": \"#2a3f5f\"}, \"marker\": {\"line\": {\"color\": \"#E5ECF6\", \"width\": 0.5}}, \"type\": \"bar\"}], \"barpolar\": [{\"marker\": {\"line\": {\"color\": \"#E5ECF6\", \"width\": 0.5}}, \"type\": \"barpolar\"}], \"carpet\": [{\"aaxis\": {\"endlinecolor\": \"#2a3f5f\", \"gridcolor\": \"white\", \"linecolor\": \"white\", \"minorgridcolor\": \"white\", \"startlinecolor\": \"#2a3f5f\"}, \"baxis\": {\"endlinecolor\": \"#2a3f5f\", \"gridcolor\": \"white\", \"linecolor\": \"white\", \"minorgridcolor\": \"white\", \"startlinecolor\": \"#2a3f5f\"}, \"type\": \"carpet\"}], \"choropleth\": [{\"colorbar\": {\"outlinewidth\": 0, \"ticks\": \"\"}, \"type\": \"choropleth\"}], \"contour\": [{\"colorbar\": {\"outlinewidth\": 0, \"ticks\": \"\"}, \"colorscale\": [[0.0, \"#0d0887\"], [0.1111111111111111, \"#46039f\"], [0.2222222222222222, \"#7201a8\"], [0.3333333333333333, \"#9c179e\"], [0.4444444444444444, \"#bd3786\"], [0.5555555555555556, \"#d8576b\"], [0.6666666666666666, \"#ed7953\"], [0.7777777777777778, \"#fb9f3a\"], [0.8888888888888888, \"#fdca26\"], [1.0, \"#f0f921\"]], \"type\": \"contour\"}], \"contourcarpet\": [{\"colorbar\": {\"outlinewidth\": 0, \"ticks\": \"\"}, \"type\": \"contourcarpet\"}], \"heatmap\": [{\"colorbar\": {\"outlinewidth\": 0, \"ticks\": \"\"}, \"colorscale\": [[0.0, \"#0d0887\"], [0.1111111111111111, \"#46039f\"], [0.2222222222222222, \"#7201a8\"], [0.3333333333333333, \"#9c179e\"], [0.4444444444444444, \"#bd3786\"], [0.5555555555555556, \"#d8576b\"], [0.6666666666666666, \"#ed7953\"], [0.7777777777777778, \"#fb9f3a\"], [0.8888888888888888, \"#fdca26\"], [1.0, \"#f0f921\"]], \"type\": \"heatmap\"}], \"heatmapgl\": [{\"colorbar\": {\"outlinewidth\": 0, \"ticks\": \"\"}, \"colorscale\": [[0.0, \"#0d0887\"], [0.1111111111111111, \"#46039f\"], [0.2222222222222222, \"#7201a8\"], [0.3333333333333333, \"#9c179e\"], [0.4444444444444444, \"#bd3786\"], [0.5555555555555556, \"#d8576b\"], [0.6666666666666666, \"#ed7953\"], [0.7777777777777778, \"#fb9f3a\"], [0.8888888888888888, \"#fdca26\"], [1.0, \"#f0f921\"]], \"type\": \"heatmapgl\"}], \"histogram\": [{\"marker\": {\"colorbar\": {\"outlinewidth\": 0, \"ticks\": \"\"}}, \"type\": \"histogram\"}], \"histogram2d\": [{\"colorbar\": {\"outlinewidth\": 0, \"ticks\": \"\"}, \"colorscale\": [[0.0, \"#0d0887\"], [0.1111111111111111, \"#46039f\"], [0.2222222222222222, \"#7201a8\"], [0.3333333333333333, \"#9c179e\"], [0.4444444444444444, \"#bd3786\"], [0.5555555555555556, \"#d8576b\"], [0.6666666666666666, \"#ed7953\"], [0.7777777777777778, \"#fb9f3a\"], [0.8888888888888888, \"#fdca26\"], [1.0, \"#f0f921\"]], \"type\": \"histogram2d\"}], \"histogram2dcontour\": [{\"colorbar\": {\"outlinewidth\": 0, \"ticks\": \"\"}, \"colorscale\": [[0.0, \"#0d0887\"], [0.1111111111111111, \"#46039f\"], [0.2222222222222222, \"#7201a8\"], [0.3333333333333333, \"#9c179e\"], [0.4444444444444444, \"#bd3786\"], [0.5555555555555556, \"#d8576b\"], [0.6666666666666666, \"#ed7953\"], [0.7777777777777778, \"#fb9f3a\"], [0.8888888888888888, \"#fdca26\"], [1.0, \"#f0f921\"]], \"type\": \"histogram2dcontour\"}], \"mesh3d\": [{\"colorbar\": {\"outlinewidth\": 0, \"ticks\": \"\"}, \"type\": \"mesh3d\"}], \"parcoords\": [{\"line\": {\"colorbar\": {\"outlinewidth\": 0, \"ticks\": \"\"}}, \"type\": \"parcoords\"}], \"pie\": [{\"automargin\": true, \"type\": \"pie\"}], \"scatter\": [{\"marker\": {\"colorbar\": {\"outlinewidth\": 0, \"ticks\": \"\"}}, \"type\": \"scatter\"}], \"scatter3d\": [{\"line\": {\"colorbar\": {\"outlinewidth\": 0, \"ticks\": \"\"}}, \"marker\": {\"colorbar\": {\"outlinewidth\": 0, \"ticks\": \"\"}}, \"type\": \"scatter3d\"}], \"scattercarpet\": [{\"marker\": {\"colorbar\": {\"outlinewidth\": 0, \"ticks\": \"\"}}, \"type\": \"scattercarpet\"}], \"scattergeo\": [{\"marker\": {\"colorbar\": {\"outlinewidth\": 0, \"ticks\": \"\"}}, \"type\": \"scattergeo\"}], \"scattergl\": [{\"marker\": {\"colorbar\": {\"outlinewidth\": 0, \"ticks\": \"\"}}, \"type\": \"scattergl\"}], \"scattermapbox\": [{\"marker\": {\"colorbar\": {\"outlinewidth\": 0, \"ticks\": \"\"}}, \"type\": \"scattermapbox\"}], \"scatterpolar\": [{\"marker\": {\"colorbar\": {\"outlinewidth\": 0, \"ticks\": \"\"}}, \"type\": \"scatterpolar\"}], \"scatterpolargl\": [{\"marker\": {\"colorbar\": {\"outlinewidth\": 0, \"ticks\": \"\"}}, \"type\": \"scatterpolargl\"}], \"scatterternary\": [{\"marker\": {\"colorbar\": {\"outlinewidth\": 0, \"ticks\": \"\"}}, \"type\": \"scatterternary\"}], \"surface\": [{\"colorbar\": {\"outlinewidth\": 0, \"ticks\": \"\"}, \"colorscale\": [[0.0, \"#0d0887\"], [0.1111111111111111, \"#46039f\"], [0.2222222222222222, \"#7201a8\"], [0.3333333333333333, \"#9c179e\"], [0.4444444444444444, \"#bd3786\"], [0.5555555555555556, \"#d8576b\"], [0.6666666666666666, \"#ed7953\"], [0.7777777777777778, \"#fb9f3a\"], [0.8888888888888888, \"#fdca26\"], [1.0, \"#f0f921\"]], \"type\": \"surface\"}], \"table\": [{\"cells\": {\"fill\": {\"color\": \"#EBF0F8\"}, \"line\": {\"color\": \"white\"}}, \"header\": {\"fill\": {\"color\": \"#C8D4E3\"}, \"line\": {\"color\": \"white\"}}, \"type\": \"table\"}]}, \"layout\": {\"annotationdefaults\": {\"arrowcolor\": \"#2a3f5f\", \"arrowhead\": 0, \"arrowwidth\": 1}, \"coloraxis\": {\"colorbar\": {\"outlinewidth\": 0, \"ticks\": \"\"}}, \"colorscale\": {\"diverging\": [[0, \"#8e0152\"], [0.1, \"#c51b7d\"], [0.2, \"#de77ae\"], [0.3, \"#f1b6da\"], [0.4, \"#fde0ef\"], [0.5, \"#f7f7f7\"], [0.6, \"#e6f5d0\"], [0.7, \"#b8e186\"], [0.8, \"#7fbc41\"], [0.9, \"#4d9221\"], [1, \"#276419\"]], \"sequential\": [[0.0, \"#0d0887\"], [0.1111111111111111, \"#46039f\"], [0.2222222222222222, \"#7201a8\"], [0.3333333333333333, \"#9c179e\"], [0.4444444444444444, \"#bd3786\"], [0.5555555555555556, \"#d8576b\"], [0.6666666666666666, \"#ed7953\"], [0.7777777777777778, \"#fb9f3a\"], [0.8888888888888888, \"#fdca26\"], [1.0, \"#f0f921\"]], \"sequentialminus\": [[0.0, \"#0d0887\"], [0.1111111111111111, \"#46039f\"], [0.2222222222222222, \"#7201a8\"], [0.3333333333333333, \"#9c179e\"], [0.4444444444444444, \"#bd3786\"], [0.5555555555555556, \"#d8576b\"], [0.6666666666666666, \"#ed7953\"], [0.7777777777777778, \"#fb9f3a\"], [0.8888888888888888, \"#fdca26\"], [1.0, \"#f0f921\"]]}, \"colorway\": [\"#636efa\", \"#EF553B\", \"#00cc96\", \"#ab63fa\", \"#FFA15A\", \"#19d3f3\", \"#FF6692\", \"#B6E880\", \"#FF97FF\", \"#FECB52\"], \"font\": {\"color\": \"#2a3f5f\"}, \"geo\": {\"bgcolor\": \"white\", \"lakecolor\": \"white\", \"landcolor\": \"#E5ECF6\", \"showlakes\": true, \"showland\": true, \"subunitcolor\": \"white\"}, \"hoverlabel\": {\"align\": \"left\"}, \"hovermode\": \"closest\", \"mapbox\": {\"style\": \"light\"}, \"paper_bgcolor\": \"white\", \"plot_bgcolor\": \"#E5ECF6\", \"polar\": {\"angularaxis\": {\"gridcolor\": \"white\", \"linecolor\": \"white\", \"ticks\": \"\"}, \"bgcolor\": \"#E5ECF6\", \"radialaxis\": {\"gridcolor\": \"white\", \"linecolor\": \"white\", \"ticks\": \"\"}}, \"scene\": {\"xaxis\": {\"backgroundcolor\": \"#E5ECF6\", \"gridcolor\": \"white\", \"gridwidth\": 2, \"linecolor\": \"white\", \"showbackground\": true, \"ticks\": \"\", \"zerolinecolor\": \"white\"}, \"yaxis\": {\"backgroundcolor\": \"#E5ECF6\", \"gridcolor\": \"white\", \"gridwidth\": 2, \"linecolor\": \"white\", \"showbackground\": true, \"ticks\": \"\", \"zerolinecolor\": \"white\"}, \"zaxis\": {\"backgroundcolor\": \"#E5ECF6\", \"gridcolor\": \"white\", \"gridwidth\": 2, \"linecolor\": \"white\", \"showbackground\": true, \"ticks\": \"\", \"zerolinecolor\": \"white\"}}, \"shapedefaults\": {\"line\": {\"color\": \"#2a3f5f\"}}, \"ternary\": {\"aaxis\": {\"gridcolor\": \"white\", \"linecolor\": \"white\", \"ticks\": \"\"}, \"baxis\": {\"gridcolor\": \"white\", \"linecolor\": \"white\", \"ticks\": \"\"}, \"bgcolor\": \"#E5ECF6\", \"caxis\": {\"gridcolor\": \"white\", \"linecolor\": \"white\", \"ticks\": \"\"}}, \"title\": {\"x\": 0.05}, \"xaxis\": {\"automargin\": true, \"gridcolor\": \"white\", \"linecolor\": \"white\", \"ticks\": \"\", \"title\": {\"standoff\": 15}, \"zerolinecolor\": \"white\", \"zerolinewidth\": 2}, \"yaxis\": {\"automargin\": true, \"gridcolor\": \"white\", \"linecolor\": \"white\", \"ticks\": \"\", \"title\": {\"standoff\": 15}, \"zerolinecolor\": \"white\", \"zerolinewidth\": 2}}}, \"title\": {\"text\": \"South & East Asia CO2 Emission (1960-2016)\"}, \"xaxis\": {\"anchor\": \"y\", \"domain\": [0.0, 1.0], \"rangeslider\": {\"visible\": true}, \"title\": {\"text\": \"Date\"}}, \"yaxis\": {\"anchor\": \"x\", \"domain\": [0.0, 1.0], \"title\": {\"text\": \"CO2 In kt ( *10000)\"}}},                        {\"responsive\": true}                    ).then(function(){\n",
       "                            \n",
       "var gd = document.getElementById('b7b59ba6-e114-4364-83ec-a4c25969de80');\n",
       "var x = new MutationObserver(function (mutations, observer) {{\n",
       "        var display = window.getComputedStyle(gd).display;\n",
       "        if (!display || display === 'none') {{\n",
       "            console.log([gd, 'removed!']);\n",
       "            Plotly.purge(gd);\n",
       "            observer.disconnect();\n",
       "        }}\n",
       "}});\n",
       "\n",
       "// Listen for the removal of the full notebook cells\n",
       "var notebookContainer = gd.closest('#notebook-container');\n",
       "if (notebookContainer) {{\n",
       "    x.observe(notebookContainer, {childList: true});\n",
       "}}\n",
       "\n",
       "// Listen for the clearing of the current output cell\n",
       "var outputEl = gd.closest('.output');\n",
       "if (outputEl) {{\n",
       "    x.observe(outputEl, {childList: true});\n",
       "}}\n",
       "\n",
       "                        })                };                });            </script>        </div>"
      ]
     },
     "metadata": {},
     "output_type": "display_data"
    }
   ],
   "source": [
    "fig = px.line(result, x=co2_df2.columns, y=result.columns,\n",
    "              title='South & East Asia CO2 Emission (1960-2016)')\n",
    "fig.update_layout(\n",
    "    xaxis_title=\"Date\",\n",
    "    yaxis_title=\"CO2 In kt ( *10000)\",\n",
    ")\n",
    "fig.update_xaxes(\n",
    "    rangeslider_visible=True\n",
    ")\n",
    "\n",
    "fig.show()\n"
   ]
  },
  {
   "cell_type": "code",
   "execution_count": null,
   "metadata": {},
   "outputs": [],
   "source": []
  }
 ],
 "metadata": {
  "kernelspec": {
   "display_name": "Python 3",
   "language": "python",
   "name": "python3"
  },
  "language_info": {
   "codemirror_mode": {
    "name": "ipython",
    "version": 3
   },
   "file_extension": ".py",
   "mimetype": "text/x-python",
   "name": "python",
   "nbconvert_exporter": "python",
   "pygments_lexer": "ipython3",
   "version": "3.8.3"
  }
 },
 "nbformat": 4,
 "nbformat_minor": 4
}
